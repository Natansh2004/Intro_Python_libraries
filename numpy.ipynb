{
 "cells": [
  {
   "cell_type": "code",
   "execution_count": 3,
   "id": "04c09ae7-caa3-4565-a0a3-9eb070e7856c",
   "metadata": {},
   "outputs": [
    {
     "data": {
      "text/plain": [
       "'2.0.1'"
      ]
     },
     "execution_count": 3,
     "metadata": {},
     "output_type": "execute_result"
    }
   ],
   "source": [
    "#importing numpy library\n",
    "import numpy as np\n",
    "\n",
    "#checking its version\n",
    "np.__version__\n"
   ]
  },
  {
   "cell_type": "code",
   "execution_count": 6,
   "id": "caeaa83e-f504-4c20-b4c2-512e80725f35",
   "metadata": {},
   "outputs": [
    {
     "data": {
      "text/plain": [
       "array([10, 20, 30, 40, 50])"
      ]
     },
     "execution_count": 6,
     "metadata": {},
     "output_type": "execute_result"
    }
   ],
   "source": [
    "#creating numpy array\n",
    "arr=np.array([10,20,30,40,50])\n",
    "arr"
   ]
  },
  {
   "cell_type": "code",
   "execution_count": 7,
   "id": "bf44a3f9-dedf-4dea-82e0-c76bec52b6c2",
   "metadata": {},
   "outputs": [
    {
     "data": {
      "text/plain": [
       "array([10, 15, 45, 80, 55])"
      ]
     },
     "execution_count": 7,
     "metadata": {},
     "output_type": "execute_result"
    }
   ],
   "source": [
    "lst=[10,15,45,80,55]\n",
    "arr=np.array(lst)\n",
    "arr"
   ]
  },
  {
   "cell_type": "code",
   "execution_count": 13,
   "id": "f14a5fb7-279d-4a7f-96af-0ab8460ecb2a",
   "metadata": {},
   "outputs": [
    {
     "data": {
      "text/plain": [
       "numpy.ndarray"
      ]
     },
     "execution_count": 13,
     "metadata": {},
     "output_type": "execute_result"
    }
   ],
   "source": [
    "#checking type of array\n",
    "type(arr)\n",
    "\n",
    "#numpy = numerical python\n",
    "#85% of the code of numpy is written in C language and rest is written in python\n",
    "#ndarray = n-dimensional array"
   ]
  },
  {
   "cell_type": "code",
   "execution_count": 11,
   "id": "97dd153e-e0fd-4eb6-8989-04e506d2b93b",
   "metadata": {},
   "outputs": [
    {
     "data": {
      "text/plain": [
       "1"
      ]
     },
     "execution_count": 11,
     "metadata": {},
     "output_type": "execute_result"
    }
   ],
   "source": [
    "#checking dimension of the array (1D array)\n",
    "arr.ndim"
   ]
  },
  {
   "cell_type": "code",
   "execution_count": 14,
   "id": "d8d61ff9-e02d-46c6-9a77-836cc5eb7468",
   "metadata": {},
   "outputs": [
    {
     "data": {
      "text/plain": [
       "5"
      ]
     },
     "execution_count": 14,
     "metadata": {},
     "output_type": "execute_result"
    }
   ],
   "source": [
    "#checking array size\n",
    "arr.size        #number of items in the array"
   ]
  },
  {
   "cell_type": "code",
   "execution_count": 15,
   "id": "af3ccdbe-8d37-42f5-b504-eec8eb5c917c",
   "metadata": {},
   "outputs": [
    {
     "data": {
      "text/plain": [
       "5"
      ]
     },
     "execution_count": 15,
     "metadata": {},
     "output_type": "execute_result"
    }
   ],
   "source": [
    "len(arr)\n",
    "#number of items in the array using len()"
   ]
  },
  {
   "cell_type": "code",
   "execution_count": 16,
   "id": "bf5bcb9c-b13f-4d8d-94ec-7672ed3cd47d",
   "metadata": {},
   "outputs": [
    {
     "data": {
      "text/plain": [
       "(5,)"
      ]
     },
     "execution_count": 16,
     "metadata": {},
     "output_type": "execute_result"
    }
   ],
   "source": [
    "arr.shape\n",
    "#number of items in the array"
   ]
  },
  {
   "cell_type": "code",
   "execution_count": 19,
   "id": "98c9c8c3-a0e1-4899-9316-297c0ade0cf6",
   "metadata": {},
   "outputs": [
    {
     "data": {
      "text/plain": [
       "dtype('int64')"
      ]
     },
     "execution_count": 19,
     "metadata": {},
     "output_type": "execute_result"
    }
   ],
   "source": [
    "arr.dtype\n",
    "#data type"
   ]
  },
  {
   "cell_type": "code",
   "execution_count": 20,
   "id": "b3ce9146-a30d-458f-aa57-cb067ab34bd1",
   "metadata": {},
   "outputs": [
    {
     "data": {
      "text/plain": [
       "array([10, 15, 45, 80, 55])"
      ]
     },
     "execution_count": 20,
     "metadata": {},
     "output_type": "execute_result"
    }
   ],
   "source": [
    "arr"
   ]
  },
  {
   "cell_type": "code",
   "execution_count": 21,
   "id": "0f8ccf35-68c8-4218-9d1e-c26b9cff60e0",
   "metadata": {},
   "outputs": [
    {
     "data": {
      "text/plain": [
       "array([10, 20, 30, 40, 50])"
      ]
     },
     "execution_count": 21,
     "metadata": {},
     "output_type": "execute_result"
    }
   ],
   "source": [
    "arr=np.array([10,20,30,40,50])\n",
    "arr    \n",
    "#all int values"
   ]
  },
  {
   "cell_type": "code",
   "execution_count": 22,
   "id": "63420331-5019-4e25-acef-6db5c67e04b8",
   "metadata": {},
   "outputs": [
    {
     "data": {
      "text/plain": [
       "array([10. , 20. , 30. , 40. , 50. , 25.2])"
      ]
     },
     "execution_count": 22,
     "metadata": {},
     "output_type": "execute_result"
    }
   ],
   "source": [
    "arr=np.array([10,20,30,40,50,25.2])\n",
    "arr"
   ]
  },
  {
   "cell_type": "code",
   "execution_count": 24,
   "id": "5a3781eb-63c7-46e2-841a-703a2639bf92",
   "metadata": {},
   "outputs": [
    {
     "data": {
      "text/plain": [
       "dtype('float64')"
      ]
     },
     "execution_count": 24,
     "metadata": {},
     "output_type": "execute_result"
    }
   ],
   "source": [
    "arr.dtype\n",
    "\n",
    "#because of 25.2, type of array became float\n",
    "#numpy array is homogeneous"
   ]
  },
  {
   "cell_type": "code",
   "execution_count": 25,
   "id": "efac7815-41e2-4e6c-bef0-a33afa530609",
   "metadata": {},
   "outputs": [
    {
     "data": {
      "text/plain": [
       "array(['10', '20', '30', '40', '50', 'Hello'], dtype='<U21')"
      ]
     },
     "execution_count": 25,
     "metadata": {},
     "output_type": "execute_result"
    }
   ],
   "source": [
    "arr=np.array([10,20,30,40,50,'Hello'])\n",
    "arr"
   ]
  },
  {
   "cell_type": "code",
   "execution_count": 26,
   "id": "d963debb-feeb-4b9d-9ba0-90fbec1da013",
   "metadata": {},
   "outputs": [
    {
     "data": {
      "text/plain": [
       "dtype('<U21')"
      ]
     },
     "execution_count": 26,
     "metadata": {},
     "output_type": "execute_result"
    }
   ],
   "source": [
    "arr.dtype"
   ]
  },
  {
   "cell_type": "code",
   "execution_count": 27,
   "id": "bccbaf11-cde0-4058-a7ac-ed14d47d96a6",
   "metadata": {},
   "outputs": [
    {
     "data": {
      "text/plain": [
       "array([10, 20, 30, 40, 50])"
      ]
     },
     "execution_count": 27,
     "metadata": {},
     "output_type": "execute_result"
    }
   ],
   "source": [
    "a=np.array([10,20,30,40,50])\n",
    "a"
   ]
  },
  {
   "cell_type": "code",
   "execution_count": 29,
   "id": "97913d09-0d5a-4471-a169-5c6e47835fc3",
   "metadata": {},
   "outputs": [
    {
     "data": {
      "text/plain": [
       "np.int64(10)"
      ]
     },
     "execution_count": 29,
     "metadata": {},
     "output_type": "execute_result"
    }
   ],
   "source": [
    "a[0]\n",
    "\n",
    "#indexing is allowed \n",
    "#(same as list, both positive and negative indexing)"
   ]
  },
  {
   "cell_type": "code",
   "execution_count": 31,
   "id": "8b78ef2e-7c57-47fa-975d-e9d6c3c8d2c4",
   "metadata": {},
   "outputs": [
    {
     "data": {
      "text/plain": [
       "array([], dtype=int64)"
      ]
     },
     "execution_count": 31,
     "metadata": {},
     "output_type": "execute_result"
    }
   ],
   "source": [
    "a[-1:-4]  #step is 1, that's why empty array"
   ]
  },
  {
   "cell_type": "code",
   "execution_count": 32,
   "id": "88e7cf60-d956-40bc-94a3-630d090d65bf",
   "metadata": {},
   "outputs": [
    {
     "data": {
      "text/plain": [
       "array([25, 10, 20, 30, 40, 50, 60])"
      ]
     },
     "execution_count": 32,
     "metadata": {},
     "output_type": "execute_result"
    }
   ],
   "source": [
    "arr = np.array([25,10,20,30,40,50,60])\n",
    "arr"
   ]
  },
  {
   "cell_type": "code",
   "execution_count": 34,
   "id": "a90c0533-7bf2-451a-9c5e-82d080d14d99",
   "metadata": {},
   "outputs": [
    {
     "data": {
      "text/plain": [
       "array([40, 50, 60])"
      ]
     },
     "execution_count": 34,
     "metadata": {},
     "output_type": "execute_result"
    }
   ],
   "source": [
    "arr[4:]    #slicing is possible in numpy arrays"
   ]
  },
  {
   "cell_type": "code",
   "execution_count": 35,
   "id": "9d357c1d-aca3-41fc-916b-68ccbe5089ba",
   "metadata": {},
   "outputs": [
    {
     "data": {
      "text/plain": [
       "array([40, 50, 60])"
      ]
     },
     "execution_count": 35,
     "metadata": {},
     "output_type": "execute_result"
    }
   ],
   "source": [
    "arr[-3:]"
   ]
  },
  {
   "cell_type": "code",
   "execution_count": 36,
   "id": "5ae96893-c92c-40f4-a3d4-e0f3c5c981b8",
   "metadata": {},
   "outputs": [
    {
     "data": {
      "text/plain": [
       "array([60, 50, 40])"
      ]
     },
     "execution_count": 36,
     "metadata": {},
     "output_type": "execute_result"
    }
   ],
   "source": [
    "arr[-1:-4:-1]"
   ]
  },
  {
   "cell_type": "code",
   "execution_count": 37,
   "id": "5113b000-6471-4c87-aa8c-e827521e4b7a",
   "metadata": {},
   "outputs": [
    {
     "data": {
      "text/plain": [
       "array([40, 30, 20, 10, 25])"
      ]
     },
     "execution_count": 37,
     "metadata": {},
     "output_type": "execute_result"
    }
   ],
   "source": [
    "arr[-3::-1]"
   ]
  },
  {
   "cell_type": "code",
   "execution_count": 39,
   "id": "07cfa64f-e0fe-4f57-b310-5bf1df95886a",
   "metadata": {},
   "outputs": [
    {
     "data": {
      "text/plain": [
       "array([10, 20, 30, 40, 50])"
      ]
     },
     "execution_count": 39,
     "metadata": {},
     "output_type": "execute_result"
    }
   ],
   "source": [
    "#creating a new numpy array\n",
    "\n",
    "a=np.array([10,20,30,40,50])\n",
    "a"
   ]
  },
  {
   "cell_type": "code",
   "execution_count": 43,
   "id": "f03c4b2d-c253-466d-a117-7918abf1c522",
   "metadata": {},
   "outputs": [
    {
     "data": {
      "text/plain": [
       "array([15, 25, 35, 45, 55])"
      ]
     },
     "execution_count": 43,
     "metadata": {},
     "output_type": "execute_result"
    }
   ],
   "source": [
    "#if we perform any operation, then it is performed on each and every element\n",
    "a+5\n",
    "\n",
    "#each value is incremented by 5"
   ]
  },
  {
   "cell_type": "code",
   "execution_count": 44,
   "id": "58de0bd0-2353-4d23-9bfe-536843be2514",
   "metadata": {},
   "outputs": [
    {
     "data": {
      "text/plain": [
       "array([10, 20, 30, 40, 50])"
      ]
     },
     "execution_count": 44,
     "metadata": {},
     "output_type": "execute_result"
    }
   ],
   "source": [
    "a\n",
    "#but no changes has been done in the original array 'a'"
   ]
  },
  {
   "cell_type": "code",
   "execution_count": 45,
   "id": "9ceab70a-3ac2-4d2b-9ed9-a4c6ad99a61c",
   "metadata": {},
   "outputs": [
    {
     "data": {
      "text/plain": [
       "array([100, 200, 300, 400, 500])"
      ]
     },
     "execution_count": 45,
     "metadata": {},
     "output_type": "execute_result"
    }
   ],
   "source": [
    "a*10"
   ]
  },
  {
   "cell_type": "code",
   "execution_count": 46,
   "id": "762d0237-8f0c-4c5b-8a6e-92d3a71b7952",
   "metadata": {},
   "outputs": [
    {
     "data": {
      "text/plain": [
       "array([10, 20, 30, 40, 50])"
      ]
     },
     "execution_count": 46,
     "metadata": {},
     "output_type": "execute_result"
    }
   ],
   "source": [
    "a"
   ]
  },
  {
   "cell_type": "code",
   "execution_count": 48,
   "id": "fa31359d-4baf-4db7-b865-b9cf38d9ea5c",
   "metadata": {},
   "outputs": [
    {
     "data": {
      "text/plain": [
       "np.int64(10)"
      ]
     },
     "execution_count": 48,
     "metadata": {},
     "output_type": "execute_result"
    }
   ],
   "source": [
    "min(a)\n",
    "#it will show the minimum value from the array 'a'"
   ]
  },
  {
   "cell_type": "code",
   "execution_count": 49,
   "id": "b0ceb34e-7969-4ea6-8342-185fa818dcb0",
   "metadata": {},
   "outputs": [
    {
     "data": {
      "text/plain": [
       "np.int64(50)"
      ]
     },
     "execution_count": 49,
     "metadata": {},
     "output_type": "execute_result"
    }
   ],
   "source": [
    "max(a)\n",
    "#it will show the maximum value from the array 'a'"
   ]
  },
  {
   "cell_type": "code",
   "execution_count": 50,
   "id": "356cdec6-b3d0-4569-9335-828b1a96b0f0",
   "metadata": {},
   "outputs": [
    {
     "data": {
      "text/plain": [
       "np.int64(150)"
      ]
     },
     "execution_count": 50,
     "metadata": {},
     "output_type": "execute_result"
    }
   ],
   "source": [
    "sum(a)\n",
    "#it will add all the elements in the array"
   ]
  },
  {
   "cell_type": "code",
   "execution_count": 56,
   "id": "67e399b7-3e23-49a2-84c1-ec95e88525b8",
   "metadata": {
    "scrolled": true
   },
   "outputs": [
    {
     "data": {
      "text/plain": [
       "array([ 5,  9, 10, 34, 67, 98,  2])"
      ]
     },
     "execution_count": 56,
     "metadata": {},
     "output_type": "execute_result"
    }
   ],
   "source": [
    "a=np.array([5,9,10,34,67,98,2])\n",
    "a"
   ]
  },
  {
   "cell_type": "code",
   "execution_count": 57,
   "id": "9122ebc6-4b5c-4e94-bdd5-4239e3be5982",
   "metadata": {},
   "outputs": [
    {
     "data": {
      "text/plain": [
       "np.float64(32.142857142857146)"
      ]
     },
     "execution_count": 57,
     "metadata": {},
     "output_type": "execute_result"
    }
   ],
   "source": [
    "#mean=average\n",
    "np.mean(a)\n",
    "\n",
    "#data type of that mean value is float"
   ]
  },
  {
   "cell_type": "code",
   "execution_count": 59,
   "id": "ed2eecfa-704d-4818-83d1-00ecf4159227",
   "metadata": {},
   "outputs": [
    {
     "data": {
      "text/plain": [
       "np.float64(10.0)"
      ]
     },
     "execution_count": 59,
     "metadata": {},
     "output_type": "execute_result"
    }
   ],
   "source": [
    "#median = middle most element\n",
    "np.median(a)"
   ]
  },
  {
   "cell_type": "code",
   "execution_count": 60,
   "id": "cfdf3eaa-4523-424e-a2f6-da28389e34ea",
   "metadata": {},
   "outputs": [
    {
     "ename": "AttributeError",
     "evalue": "module 'numpy' has no attribute 'mode'",
     "output_type": "error",
     "traceback": [
      "\u001b[1;31m---------------------------------------------------------------------------\u001b[0m",
      "\u001b[1;31mAttributeError\u001b[0m                            Traceback (most recent call last)",
      "Cell \u001b[1;32mIn[60], line 1\u001b[0m\n\u001b[1;32m----> 1\u001b[0m \u001b[43mnp\u001b[49m\u001b[38;5;241;43m.\u001b[39;49m\u001b[43mmode\u001b[49m(a)\n",
      "File \u001b[1;32m~\\AppData\\Local\\Programs\\Python\\Python312\\Lib\\site-packages\\numpy\\__init__.py:424\u001b[0m, in \u001b[0;36m__getattr__\u001b[1;34m(attr)\u001b[0m\n\u001b[0;32m    421\u001b[0m     \u001b[38;5;28;01mimport\u001b[39;00m \u001b[38;5;21;01mnumpy\u001b[39;00m\u001b[38;5;21;01m.\u001b[39;00m\u001b[38;5;21;01mchar\u001b[39;00m \u001b[38;5;28;01mas\u001b[39;00m \u001b[38;5;21;01mchar\u001b[39;00m\n\u001b[0;32m    422\u001b[0m     \u001b[38;5;28;01mreturn\u001b[39;00m char\u001b[38;5;241m.\u001b[39mchararray\n\u001b[1;32m--> 424\u001b[0m \u001b[38;5;28;01mraise\u001b[39;00m \u001b[38;5;167;01mAttributeError\u001b[39;00m(\u001b[38;5;124m\"\u001b[39m\u001b[38;5;124mmodule \u001b[39m\u001b[38;5;132;01m{!r}\u001b[39;00m\u001b[38;5;124m has no attribute \u001b[39m\u001b[38;5;124m\"\u001b[39m\n\u001b[0;32m    425\u001b[0m                      \u001b[38;5;124m\"\u001b[39m\u001b[38;5;132;01m{!r}\u001b[39;00m\u001b[38;5;124m\"\u001b[39m\u001b[38;5;241m.\u001b[39mformat(\u001b[38;5;18m__name__\u001b[39m, attr))\n",
      "\u001b[1;31mAttributeError\u001b[0m: module 'numpy' has no attribute 'mode'"
     ]
    }
   ],
   "source": [
    "np.mode(a)"
   ]
  },
  {
   "cell_type": "code",
   "execution_count": 10,
   "id": "14b146e0-bfa9-4650-9662-876b08bf959b",
   "metadata": {},
   "outputs": [
    {
     "data": {
      "text/plain": [
       "3"
      ]
     },
     "execution_count": 10,
     "metadata": {},
     "output_type": "execute_result"
    }
   ],
   "source": [
    "import numpy as np\n",
    "np.random.randint(1,5)\n",
    "\n",
    "#generating random int value using numpy\n",
    "#select any one value between 1 to 5 (5 is included)"
   ]
  },
  {
   "cell_type": "code",
   "execution_count": 14,
   "id": "63391648-eedd-4c8a-86ce-32227add6c61",
   "metadata": {},
   "outputs": [
    {
     "data": {
      "text/plain": [
       "4"
      ]
     },
     "execution_count": 14,
     "metadata": {},
     "output_type": "execute_result"
    }
   ],
   "source": [
    "np.random.randint(1,5)"
   ]
  },
  {
   "cell_type": "code",
   "execution_count": 15,
   "id": "a6f3bae1-969a-4255-b66d-e8caae10aaa8",
   "metadata": {},
   "outputs": [
    {
     "data": {
      "text/plain": [
       "1"
      ]
     },
     "execution_count": 15,
     "metadata": {},
     "output_type": "execute_result"
    }
   ],
   "source": [
    "##NOW, importing random module\n",
    "#and generating random values using this module\n",
    "\n",
    "import random\n",
    "random.randint(1,5)"
   ]
  },
  {
   "cell_type": "code",
   "execution_count": 17,
   "id": "d280a3bd-4a33-450e-bdcb-7c9c79ed6929",
   "metadata": {},
   "outputs": [
    {
     "data": {
      "text/plain": [
       "4"
      ]
     },
     "execution_count": 17,
     "metadata": {},
     "output_type": "execute_result"
    }
   ],
   "source": [
    "random.randint(1,5)"
   ]
  },
  {
   "cell_type": "code",
   "execution_count": 18,
   "id": "4f73d4ec-6b56-43d5-a509-d881bf1cacaa",
   "metadata": {},
   "outputs": [
    {
     "data": {
      "text/plain": [
       "3"
      ]
     },
     "execution_count": 18,
     "metadata": {},
     "output_type": "execute_result"
    }
   ],
   "source": [
    "random.randint(1,5)"
   ]
  },
  {
   "cell_type": "code",
   "execution_count": 29,
   "id": "afbed95d-3ea3-4f08-bcd2-c51913e20533",
   "metadata": {},
   "outputs": [
    {
     "data": {
      "text/plain": [
       "array([ 66, 110, 121, 186,  45,  56, 114, 137,  55, 111,  68,   9,  16,\n",
       "       157,  81, 148,  42,  44, 146, 119,  34,  68,  32, 148,  75, 136,\n",
       "        85,  58,  96, 143,  39, 161,  79, 126,  44,  78,  78,  41, 167,\n",
       "        50, 189,  51, 113, 153,  60, 162,  11,  21,  77, 114, 163, 128,\n",
       "       100,  56,  27, 143, 127, 109, 176,  11,  95, 113, 180, 164,  52,\n",
       "        88, 107,  93, 188,  52,  68,  91, 113,  42, 186,   9, 170, 180,\n",
       "        82, 150, 125,  23, 129,  37,  31,  16,  22,  70,  41,  45,  59,\n",
       "       140, 165,  89, 163,  20, 163,   7,  67, 163], dtype=int32)"
      ]
     },
     "execution_count": 29,
     "metadata": {},
     "output_type": "execute_result"
    }
   ],
   "source": [
    "arr=np.random.randint(1,200,100)\n",
    "\n",
    "# it means that it will generate 100 random integer values \n",
    "#which are all between 1 to 200...\n",
    "\n",
    "arr"
   ]
  },
  {
   "cell_type": "code",
   "execution_count": 30,
   "id": "fd7c0b3d-5b2f-4b8d-b52d-020e56d8875e",
   "metadata": {},
   "outputs": [
    {
     "data": {
      "text/plain": [
       "numpy.ndarray"
      ]
     },
     "execution_count": 30,
     "metadata": {},
     "output_type": "execute_result"
    }
   ],
   "source": [
    "type(arr)"
   ]
  },
  {
   "cell_type": "code",
   "execution_count": 31,
   "id": "4f0beb28-c68a-4d51-8337-70e8d5455604",
   "metadata": {},
   "outputs": [
    {
     "data": {
      "text/plain": [
       "dtype('int32')"
      ]
     },
     "execution_count": 31,
     "metadata": {},
     "output_type": "execute_result"
    }
   ],
   "source": [
    "arr.dtype    \n",
    "#By default dtype of arr will be 'int32'"
   ]
  },
  {
   "cell_type": "code",
   "execution_count": 32,
   "id": "c347c01b-da73-41fb-a700-cb55243976a7",
   "metadata": {},
   "outputs": [
    {
     "data": {
      "text/plain": [
       "array([  9, 160,  22,  39, 170,   3, 110,  49, 191, 198,  38, 141,  72,\n",
       "       100, 181,  69,  32,   4, 167, 167, 153,  46, 170, 103,  52, 166,\n",
       "        14, 194,  61, 125, 112,  26, 182,   6, 194, 177,  42, 124, 176,\n",
       "       142, 163, 149,  68, 121, 145,  41,  12, 130, 150,  18, 188, 114,\n",
       "        89, 180,  69, 137,  33, 163,  80, 178,  21, 134, 171,  51,  88,\n",
       "       143, 197,  40,  36, 138, 140, 196, 157, 182,  56, 161,  94,  90,\n",
       "       108,   7,  20,  74,  35,  79,  85, 128, 190, 144,  20,  63, 160,\n",
       "        27,  36,  68,  33, 170, 180, 155, 154,   7])"
      ]
     },
     "execution_count": 32,
     "metadata": {},
     "output_type": "execute_result"
    }
   ],
   "source": [
    "#But let's say we want dtype='int64' then we need to pass a parameter....\n",
    "\n",
    "arr=np.random.randint(1,200,100,dtype='int64')\n",
    "arr"
   ]
  },
  {
   "cell_type": "code",
   "execution_count": 33,
   "id": "c7b36558-dd8a-4e75-8207-cd540f703584",
   "metadata": {},
   "outputs": [
    {
     "data": {
      "text/plain": [
       "numpy.ndarray"
      ]
     },
     "execution_count": 33,
     "metadata": {},
     "output_type": "execute_result"
    }
   ],
   "source": [
    "type(arr)"
   ]
  },
  {
   "cell_type": "code",
   "execution_count": 34,
   "id": "50058441-faba-46c5-b696-2eb76e8e9174",
   "metadata": {},
   "outputs": [
    {
     "data": {
      "text/plain": [
       "dtype('int64')"
      ]
     },
     "execution_count": 34,
     "metadata": {},
     "output_type": "execute_result"
    }
   ],
   "source": [
    "arr.dtype\n",
    "#Now, its dtype will be 'int64'"
   ]
  },
  {
   "cell_type": "code",
   "execution_count": 35,
   "id": "1eab5ba6-e92c-4e42-ae9e-b9aa61d8b58f",
   "metadata": {},
   "outputs": [
    {
     "data": {
      "text/plain": [
       "array([  9, 160,  22,  39, 170,   3, 110,  49, 191, 198,  38, 141,  72,\n",
       "       100, 181,  69,  32,   4, 167, 167, 153,  46, 170, 103,  52, 166,\n",
       "        14, 194,  61, 125, 112,  26, 182,   6, 194, 177,  42, 124, 176,\n",
       "       142, 163, 149,  68, 121, 145,  41,  12, 130, 150,  18, 188, 114,\n",
       "        89, 180,  69, 137,  33, 163,  80, 178,  21, 134, 171,  51,  88,\n",
       "       143, 197,  40,  36, 138, 140, 196, 157, 182,  56, 161,  94,  90,\n",
       "       108,   7,  20,  74,  35,  79,  85, 128, 190, 144,  20,  63, 160,\n",
       "        27,  36,  68,  33, 170, 180, 155, 154,   7])"
      ]
     },
     "execution_count": 35,
     "metadata": {},
     "output_type": "execute_result"
    }
   ],
   "source": [
    "arr"
   ]
  },
  {
   "cell_type": "code",
   "execution_count": 37,
   "id": "01ae4d07-665f-4dd9-a6c1-c35a3c53212f",
   "metadata": {},
   "outputs": [
    {
     "data": {
      "text/plain": [
       "array([ True, False,  True,  True, False,  True, False,  True, False,\n",
       "       False,  True, False,  True, False, False,  True,  True,  True,\n",
       "       False, False, False,  True, False, False,  True, False,  True,\n",
       "       False,  True, False, False,  True, False,  True, False, False,\n",
       "        True, False, False, False, False, False,  True, False, False,\n",
       "        True,  True, False, False,  True, False, False,  True, False,\n",
       "        True, False,  True, False,  True, False,  True, False, False,\n",
       "        True,  True, False, False,  True,  True, False, False, False,\n",
       "       False, False,  True, False,  True,  True, False,  True,  True,\n",
       "        True,  True,  True,  True, False, False, False,  True,  True,\n",
       "       False,  True,  True,  True,  True, False, False, False, False,\n",
       "        True])"
      ]
     },
     "execution_count": 37,
     "metadata": {},
     "output_type": "execute_result"
    }
   ],
   "source": [
    "## Filter all those items that are less than 100\n",
    "arr<100"
   ]
  },
  {
   "cell_type": "code",
   "execution_count": 45,
   "id": "7d720aa7-1330-4576-ac03-059da6d9e353",
   "metadata": {},
   "outputs": [
    {
     "data": {
      "text/plain": [
       "array([ 9, 22, 39,  3, 49, 38, 72, 69, 32,  4, 46, 52, 14, 61, 26,  6, 42,\n",
       "       68, 41, 12, 18, 89, 69, 33, 80, 21, 51, 88, 40, 36, 56, 94, 90,  7,\n",
       "       20, 74, 35, 79, 85, 20, 63, 27, 36, 68, 33,  7])"
      ]
     },
     "execution_count": 45,
     "metadata": {},
     "output_type": "execute_result"
    }
   ],
   "source": [
    "#to filter out the values which are less than 100\n",
    "\n",
    "arr[arr<100]"
   ]
  },
  {
   "cell_type": "code",
   "execution_count": 46,
   "id": "3a61c176-995e-47b4-a4cb-d0b7bc04efcf",
   "metadata": {},
   "outputs": [
    {
     "data": {
      "text/plain": [
       "np.int64(46)"
      ]
     },
     "execution_count": 46,
     "metadata": {},
     "output_type": "execute_result"
    }
   ],
   "source": [
    "sum(arr<100)"
   ]
  },
  {
   "cell_type": "code",
   "execution_count": 48,
   "id": "e9a0fc5f-0546-4d40-9f40-c3970b8a5c7c",
   "metadata": {},
   "outputs": [
    {
     "data": {
      "text/plain": [
       "46"
      ]
     },
     "execution_count": 48,
     "metadata": {},
     "output_type": "execute_result"
    }
   ],
   "source": [
    "len(arr[arr<100])  #using len()\n",
    "\n",
    "#46 items are there that are less than 100"
   ]
  },
  {
   "cell_type": "code",
   "execution_count": 49,
   "id": "e13e90bb-f4d8-4aea-a135-0905a04adec5",
   "metadata": {},
   "outputs": [],
   "source": [
    "#     2D array"
   ]
  },
  {
   "cell_type": "code",
   "execution_count": 50,
   "id": "a83b34c0-c861-4a4c-a33a-92ca912f4d20",
   "metadata": {},
   "outputs": [
    {
     "data": {
      "text/plain": [
       "[[1, 2, 3], [4, 5, 6], [7, 8, 9]]"
      ]
     },
     "execution_count": 50,
     "metadata": {},
     "output_type": "execute_result"
    }
   ],
   "source": [
    "lst = [[1,2,3],\n",
    "       [4,5,6],\n",
    "       [7,8,9]]\n",
    "lst"
   ]
  },
  {
   "cell_type": "code",
   "execution_count": 51,
   "id": "e2e3d3c6-c8ea-4236-a8a0-7348447ee934",
   "metadata": {},
   "outputs": [
    {
     "data": {
      "text/plain": [
       "list"
      ]
     },
     "execution_count": 51,
     "metadata": {},
     "output_type": "execute_result"
    }
   ],
   "source": [
    "type(lst)"
   ]
  },
  {
   "cell_type": "code",
   "execution_count": 52,
   "id": "4882c921-1d98-4104-9ab2-7c6c6a9130c0",
   "metadata": {},
   "outputs": [
    {
     "data": {
      "text/plain": [
       "array([[1, 2, 3],\n",
       "       [4, 5, 6],\n",
       "       [7, 8, 9]])"
      ]
     },
     "execution_count": 52,
     "metadata": {},
     "output_type": "execute_result"
    }
   ],
   "source": [
    "arr=np.array(lst)\n",
    "arr"
   ]
  },
  {
   "cell_type": "code",
   "execution_count": 53,
   "id": "cb08b48d-eba8-4126-b025-c45a15223264",
   "metadata": {},
   "outputs": [
    {
     "data": {
      "text/plain": [
       "numpy.ndarray"
      ]
     },
     "execution_count": 53,
     "metadata": {},
     "output_type": "execute_result"
    }
   ],
   "source": [
    "type(arr)"
   ]
  },
  {
   "cell_type": "code",
   "execution_count": 55,
   "id": "75d3431c-591d-4365-af26-c65ac297b39a",
   "metadata": {},
   "outputs": [
    {
     "data": {
      "text/plain": [
       "2"
      ]
     },
     "execution_count": 55,
     "metadata": {},
     "output_type": "execute_result"
    }
   ],
   "source": [
    "arr.ndim\n",
    "#number of dimensions - 2"
   ]
  },
  {
   "cell_type": "code",
   "execution_count": 56,
   "id": "00f93c5f-76b7-422b-86b6-5896e61421c4",
   "metadata": {},
   "outputs": [
    {
     "data": {
      "text/plain": [
       "(3, 3)"
      ]
     },
     "execution_count": 56,
     "metadata": {},
     "output_type": "execute_result"
    }
   ],
   "source": [
    "arr.shape\n",
    "\n",
    "#3*3 matrix\n",
    "#3 rows and 3 columns"
   ]
  },
  {
   "cell_type": "code",
   "execution_count": 57,
   "id": "80767b80-a81f-4510-95a8-c54eb021a780",
   "metadata": {},
   "outputs": [
    {
     "data": {
      "text/plain": [
       "array([[1, 2, 3],\n",
       "       [4, 5, 6],\n",
       "       [7, 8, 9]])"
      ]
     },
     "execution_count": 57,
     "metadata": {},
     "output_type": "execute_result"
    }
   ],
   "source": [
    "arr"
   ]
  },
  {
   "cell_type": "code",
   "execution_count": 58,
   "id": "37208e26-f74a-4fc1-a13f-d0c63921f8c3",
   "metadata": {},
   "outputs": [
    {
     "data": {
      "text/plain": [
       "array([1, 2, 3])"
      ]
     },
     "execution_count": 58,
     "metadata": {},
     "output_type": "execute_result"
    }
   ],
   "source": [
    "#indexing\n",
    "arr[0]     #row"
   ]
  },
  {
   "cell_type": "code",
   "execution_count": 59,
   "id": "13275f70-ca05-4e29-8538-f1e03f1bdd8c",
   "metadata": {},
   "outputs": [
    {
     "data": {
      "text/plain": [
       "array([7, 8, 9])"
      ]
     },
     "execution_count": 59,
     "metadata": {},
     "output_type": "execute_result"
    }
   ],
   "source": [
    "arr[2]"
   ]
  },
  {
   "cell_type": "code",
   "execution_count": 61,
   "id": "434c05e3-cee2-4fa3-8fc3-0f0b2b2266f7",
   "metadata": {},
   "outputs": [
    {
     "data": {
      "text/plain": [
       "array([[1, 2, 3],\n",
       "       [4, 5, 6]])"
      ]
     },
     "execution_count": 61,
     "metadata": {},
     "output_type": "execute_result"
    }
   ],
   "source": [
    "#slicing\n",
    "arr[0:2]    # 2 is not included"
   ]
  },
  {
   "cell_type": "code",
   "execution_count": 62,
   "id": "ec6898f9-e0cb-4878-80d0-fbc0e815a256",
   "metadata": {},
   "outputs": [
    {
     "data": {
      "text/plain": [
       "array([7, 8, 9])"
      ]
     },
     "execution_count": 62,
     "metadata": {},
     "output_type": "execute_result"
    }
   ],
   "source": [
    "#slicing using negative indexing\n",
    "arr[-1]"
   ]
  },
  {
   "cell_type": "code",
   "execution_count": 63,
   "id": "2b93b004-3ef9-4c69-89c3-59e6e992eda1",
   "metadata": {},
   "outputs": [
    {
     "data": {
      "text/plain": [
       "array([[1, 2, 3],\n",
       "       [4, 5, 6],\n",
       "       [7, 8, 9]])"
      ]
     },
     "execution_count": 63,
     "metadata": {},
     "output_type": "execute_result"
    }
   ],
   "source": [
    "arr"
   ]
  },
  {
   "cell_type": "code",
   "execution_count": 67,
   "id": "a4f43a60-50cb-4562-bdc7-f7a2b1fc5eb9",
   "metadata": {},
   "outputs": [
    {
     "data": {
      "text/plain": [
       "array([[5, 6],\n",
       "       [8, 9]])"
      ]
     },
     "execution_count": 67,
     "metadata": {},
     "output_type": "execute_result"
    }
   ],
   "source": [
    "arr[1:3,1:3]\n",
    "\n",
    "#or arr[1:,1:]\n",
    "#Before comma, it represents rows\n",
    "#And after comma, it represents columns\n",
    "\n",
    "# arr[rows, columns]"
   ]
  },
  {
   "cell_type": "code",
   "execution_count": 68,
   "id": "d0c6fae0-4dc0-4734-b02d-e526e708c1ca",
   "metadata": {},
   "outputs": [
    {
     "data": {
      "text/plain": [
       "array([[2, 3],\n",
       "       [5, 6]])"
      ]
     },
     "execution_count": 68,
     "metadata": {},
     "output_type": "execute_result"
    }
   ],
   "source": [
    "arr[0:2,1:]"
   ]
  },
  {
   "cell_type": "code",
   "execution_count": 69,
   "id": "fbe3c57e-917b-4ad2-bab6-83927c57a118",
   "metadata": {},
   "outputs": [
    {
     "data": {
      "text/plain": [
       "array([[4, 5],\n",
       "       [7, 8]])"
      ]
     },
     "execution_count": 69,
     "metadata": {},
     "output_type": "execute_result"
    }
   ],
   "source": [
    "arr[1:,0:2]"
   ]
  },
  {
   "cell_type": "code",
   "execution_count": 70,
   "id": "02d057dc-3620-4c09-a324-13f54cb12aa9",
   "metadata": {},
   "outputs": [
    {
     "data": {
      "text/plain": [
       "array([[1, 2, 3],\n",
       "       [4, 5, 6],\n",
       "       [7, 8, 9]])"
      ]
     },
     "execution_count": 70,
     "metadata": {},
     "output_type": "execute_result"
    }
   ],
   "source": [
    "arr"
   ]
  },
  {
   "cell_type": "code",
   "execution_count": 83,
   "id": "b6ddbfab-31c6-4869-a469-45a474feb233",
   "metadata": {},
   "outputs": [
    {
     "data": {
      "text/plain": [
       "array([[4, 5, 6],\n",
       "       [7, 8, 9]])"
      ]
     },
     "execution_count": 83,
     "metadata": {},
     "output_type": "execute_result"
    }
   ],
   "source": [
    "#Using negative slicing\n",
    "\n",
    "arr[-2:]\n",
    "# or     arr[-2:,-3:]"
   ]
  },
  {
   "cell_type": "code",
   "execution_count": 84,
   "id": "bc68831d-0652-4785-9d71-110b51e5ed8f",
   "metadata": {},
   "outputs": [
    {
     "data": {
      "text/plain": [
       "array([4, 5, 6])"
      ]
     },
     "execution_count": 84,
     "metadata": {},
     "output_type": "execute_result"
    }
   ],
   "source": [
    "arr[-2]"
   ]
  },
  {
   "cell_type": "code",
   "execution_count": 85,
   "id": "54470ab2-0b26-4dcf-b7b8-eac7058a3108",
   "metadata": {},
   "outputs": [
    {
     "data": {
      "text/plain": [
       "array([[4, 5, 6],\n",
       "       [1, 2, 3]])"
      ]
     },
     "execution_count": 85,
     "metadata": {},
     "output_type": "execute_result"
    }
   ],
   "source": [
    "arr[-2:-4:-1]"
   ]
  },
  {
   "cell_type": "code",
   "execution_count": 75,
   "id": "71196f62-4301-41d1-a649-00277bd17f03",
   "metadata": {},
   "outputs": [
    {
     "data": {
      "text/plain": [
       "array([[7, 8, 9],\n",
       "       [4, 5, 6]])"
      ]
     },
     "execution_count": 75,
     "metadata": {},
     "output_type": "execute_result"
    }
   ],
   "source": [
    "arr[-1:-3:-1]"
   ]
  },
  {
   "cell_type": "code",
   "execution_count": 76,
   "id": "dbadbe0b-16f3-4e7d-a9fb-1c96ab780515",
   "metadata": {},
   "outputs": [
    {
     "data": {
      "text/plain": [
       "array([[7, 8, 9],\n",
       "       [4, 5, 6],\n",
       "       [1, 2, 3]])"
      ]
     },
     "execution_count": 76,
     "metadata": {},
     "output_type": "execute_result"
    }
   ],
   "source": [
    "arr[::-1]"
   ]
  },
  {
   "cell_type": "code",
   "execution_count": 77,
   "id": "ea4c447b-484c-4d91-b5e8-c5a4e83c33e6",
   "metadata": {},
   "outputs": [
    {
     "data": {
      "text/plain": [
       "array([[1, 2, 3],\n",
       "       [4, 5, 6],\n",
       "       [7, 8, 9]])"
      ]
     },
     "execution_count": 77,
     "metadata": {},
     "output_type": "execute_result"
    }
   ],
   "source": [
    "arr"
   ]
  },
  {
   "cell_type": "code",
   "execution_count": 87,
   "id": "c269e2cb-6628-40e5-8ad7-751388d404f4",
   "metadata": {},
   "outputs": [
    {
     "data": {
      "text/plain": [
       "array([[5, 6],\n",
       "       [8, 9]])"
      ]
     },
     "execution_count": 87,
     "metadata": {},
     "output_type": "execute_result"
    }
   ],
   "source": [
    "arr[-2:,-2:]"
   ]
  },
  {
   "cell_type": "code",
   "execution_count": 89,
   "id": "4fcc6650-10ee-47e0-9dbc-9d0cd92a5493",
   "metadata": {},
   "outputs": [
    {
     "data": {
      "text/plain": [
       "array([[1, 2],\n",
       "       [4, 5]])"
      ]
     },
     "execution_count": 89,
     "metadata": {},
     "output_type": "execute_result"
    }
   ],
   "source": [
    "arr[-3:-1,-3:-1]    #step is 1"
   ]
  },
  {
   "cell_type": "code",
   "execution_count": 90,
   "id": "40ce6f79-398b-48d9-9ed7-2e413e70d936",
   "metadata": {},
   "outputs": [
    {
     "data": {
      "text/plain": [
       "array([[1, 2, 3],\n",
       "       [4, 5, 6],\n",
       "       [7, 8, 9]])"
      ]
     },
     "execution_count": 90,
     "metadata": {},
     "output_type": "execute_result"
    }
   ],
   "source": [
    "arr"
   ]
  },
  {
   "cell_type": "code",
   "execution_count": 139,
   "id": "aaa0b54c-9379-4cce-bac6-5646ed8c1918",
   "metadata": {},
   "outputs": [
    {
     "data": {
      "text/plain": [
       "array([1., 1., 1., 1., 1., 1., 1., 1., 1., 1.])"
      ]
     },
     "execution_count": 139,
     "metadata": {},
     "output_type": "execute_result"
    }
   ],
   "source": [
    "a=np.ones(10)\n",
    "a\n",
    "\n",
    "#it will give us an array of 10 elements with\n",
    "#the value 1 but by default it will be floating numbers' array"
   ]
  },
  {
   "cell_type": "code",
   "execution_count": 141,
   "id": "65862760-c23c-4d64-90ee-ace5331e4fdc",
   "metadata": {},
   "outputs": [
    {
     "data": {
      "text/plain": [
       "numpy.float64"
      ]
     },
     "execution_count": 141,
     "metadata": {},
     "output_type": "execute_result"
    }
   ],
   "source": [
    "type(a[0])"
   ]
  },
  {
   "cell_type": "code",
   "execution_count": 143,
   "id": "2f0eed94-bea1-40ed-84af-16c40e29036b",
   "metadata": {},
   "outputs": [
    {
     "data": {
      "text/plain": [
       "<function numpy.ones(shape, dtype=None, order='C', *, device=None, like=None)>"
      ]
     },
     "execution_count": 143,
     "metadata": {},
     "output_type": "execute_result"
    }
   ],
   "source": [
    "np.ones    #arguments of the function ones()"
   ]
  },
  {
   "cell_type": "code",
   "execution_count": 144,
   "id": "92fd1202-0abf-40d7-8bef-33ca9fccfa05",
   "metadata": {},
   "outputs": [
    {
     "ename": "TypeError",
     "evalue": "ones() missing 1 required positional argument: 'shape'",
     "output_type": "error",
     "traceback": [
      "\u001b[1;31m---------------------------------------------------------------------------\u001b[0m",
      "\u001b[1;31mTypeError\u001b[0m                                 Traceback (most recent call last)",
      "Cell \u001b[1;32mIn[144], line 1\u001b[0m\n\u001b[1;32m----> 1\u001b[0m \u001b[43mnp\u001b[49m\u001b[38;5;241;43m.\u001b[39;49m\u001b[43mones\u001b[49m\u001b[43m(\u001b[49m\u001b[43m)\u001b[49m\n",
      "\u001b[1;31mTypeError\u001b[0m: ones() missing 1 required positional argument: 'shape'"
     ]
    }
   ],
   "source": [
    "np.ones()"
   ]
  },
  {
   "cell_type": "code",
   "execution_count": 146,
   "id": "115ea09f-9d44-4350-8a4f-46de6e228321",
   "metadata": {},
   "outputs": [
    {
     "ename": "TypeError",
     "evalue": "Cannot interpret '3' as a data type",
     "output_type": "error",
     "traceback": [
      "\u001b[1;31m---------------------------------------------------------------------------\u001b[0m",
      "\u001b[1;31mTypeError\u001b[0m                                 Traceback (most recent call last)",
      "Cell \u001b[1;32mIn[146], line 1\u001b[0m\n\u001b[1;32m----> 1\u001b[0m \u001b[43mnp\u001b[49m\u001b[38;5;241;43m.\u001b[39;49m\u001b[43mones\u001b[49m\u001b[43m(\u001b[49m\u001b[38;5;241;43m3\u001b[39;49m\u001b[43m,\u001b[49m\u001b[38;5;241;43m3\u001b[39;49m\u001b[43m)\u001b[49m\n",
      "File \u001b[1;32m~\\AppData\\Local\\Programs\\Python\\Python312\\Lib\\site-packages\\numpy\\_core\\numeric.py:204\u001b[0m, in \u001b[0;36mones\u001b[1;34m(shape, dtype, order, device, like)\u001b[0m\n\u001b[0;32m    199\u001b[0m \u001b[38;5;28;01mif\u001b[39;00m like \u001b[38;5;129;01mis\u001b[39;00m \u001b[38;5;129;01mnot\u001b[39;00m \u001b[38;5;28;01mNone\u001b[39;00m:\n\u001b[0;32m    200\u001b[0m     \u001b[38;5;28;01mreturn\u001b[39;00m _ones_with_like(\n\u001b[0;32m    201\u001b[0m         like, shape, dtype\u001b[38;5;241m=\u001b[39mdtype, order\u001b[38;5;241m=\u001b[39morder, device\u001b[38;5;241m=\u001b[39mdevice\n\u001b[0;32m    202\u001b[0m     )\n\u001b[1;32m--> 204\u001b[0m a \u001b[38;5;241m=\u001b[39m \u001b[43mempty\u001b[49m\u001b[43m(\u001b[49m\u001b[43mshape\u001b[49m\u001b[43m,\u001b[49m\u001b[43m \u001b[49m\u001b[43mdtype\u001b[49m\u001b[43m,\u001b[49m\u001b[43m \u001b[49m\u001b[43morder\u001b[49m\u001b[43m,\u001b[49m\u001b[43m \u001b[49m\u001b[43mdevice\u001b[49m\u001b[38;5;241;43m=\u001b[39;49m\u001b[43mdevice\u001b[49m\u001b[43m)\u001b[49m\n\u001b[0;32m    205\u001b[0m multiarray\u001b[38;5;241m.\u001b[39mcopyto(a, \u001b[38;5;241m1\u001b[39m, casting\u001b[38;5;241m=\u001b[39m\u001b[38;5;124m'\u001b[39m\u001b[38;5;124munsafe\u001b[39m\u001b[38;5;124m'\u001b[39m)\n\u001b[0;32m    206\u001b[0m \u001b[38;5;28;01mreturn\u001b[39;00m a\n",
      "\u001b[1;31mTypeError\u001b[0m: Cannot interpret '3' as a data type"
     ]
    }
   ],
   "source": [
    "np.ones(3,3)"
   ]
  },
  {
   "cell_type": "code",
   "execution_count": 24,
   "id": "7338a599-e587-47b3-98fe-1b53d2f9cbaa",
   "metadata": {},
   "outputs": [
    {
     "data": {
      "text/plain": [
       "array([1, 1, 1, 1, 1])"
      ]
     },
     "execution_count": 24,
     "metadata": {},
     "output_type": "execute_result"
    }
   ],
   "source": [
    "a=np.ones(5,'int')\n",
    "a\n",
    "#array of 5 elements with the value 1 of int data type"
   ]
  },
  {
   "cell_type": "code",
   "execution_count": 25,
   "id": "6495158d-7aea-4e54-ac70-2d95c7652986",
   "metadata": {},
   "outputs": [
    {
     "data": {
      "text/plain": [
       "numpy.ndarray"
      ]
     },
     "execution_count": 25,
     "metadata": {},
     "output_type": "execute_result"
    }
   ],
   "source": [
    "type(a)"
   ]
  },
  {
   "cell_type": "code",
   "execution_count": 156,
   "id": "f34507f6-2daa-4527-b152-8c0da6d58a64",
   "metadata": {},
   "outputs": [
    {
     "data": {
      "text/plain": [
       "numpy.int64"
      ]
     },
     "execution_count": 156,
     "metadata": {},
     "output_type": "execute_result"
    }
   ],
   "source": [
    "type(a[0])"
   ]
  },
  {
   "cell_type": "code",
   "execution_count": 2,
   "id": "93e48332-9a84-4ace-a06c-db5c5ed6f6b7",
   "metadata": {},
   "outputs": [],
   "source": [
    "import numpy as np"
   ]
  },
  {
   "cell_type": "code",
   "execution_count": 6,
   "id": "0c09dd5a-4aa4-4d68-87ab-586b5a463c12",
   "metadata": {},
   "outputs": [
    {
     "data": {
      "text/plain": [
       "array([0., 0., 0., 0., 0., 0., 0., 0., 0., 0.])"
      ]
     },
     "execution_count": 6,
     "metadata": {},
     "output_type": "execute_result"
    }
   ],
   "source": [
    "a = np.zeros(10)\n",
    "a\n",
    "\n",
    "#it will give us an array of 10 elements with\n",
    "#the value 0 but by default it will be floating numbers' array"
   ]
  },
  {
   "cell_type": "code",
   "execution_count": 7,
   "id": "99b4d8be-d385-4a10-adcf-1321bd20fa0e",
   "metadata": {},
   "outputs": [
    {
     "data": {
      "text/plain": [
       "numpy.ndarray"
      ]
     },
     "execution_count": 7,
     "metadata": {},
     "output_type": "execute_result"
    }
   ],
   "source": [
    "type(a)"
   ]
  },
  {
   "cell_type": "code",
   "execution_count": 8,
   "id": "051126f1-76ce-4dc6-8351-c2732568fad1",
   "metadata": {},
   "outputs": [
    {
     "data": {
      "text/plain": [
       "numpy.float64"
      ]
     },
     "execution_count": 8,
     "metadata": {},
     "output_type": "execute_result"
    }
   ],
   "source": [
    "type(a[0])"
   ]
  },
  {
   "cell_type": "code",
   "execution_count": 21,
   "id": "80032b4a-0c60-42de-93a5-6d58890fbd98",
   "metadata": {},
   "outputs": [
    {
     "data": {
      "text/plain": [
       "array([0, 0, 0, 0, 0])"
      ]
     },
     "execution_count": 21,
     "metadata": {},
     "output_type": "execute_result"
    }
   ],
   "source": [
    "a = np.zeros(5,'int')    \n",
    "a"
   ]
  },
  {
   "cell_type": "code",
   "execution_count": 22,
   "id": "fb7acdfc-7dc6-4387-8e04-287d047ad767",
   "metadata": {},
   "outputs": [
    {
     "data": {
      "text/plain": [
       "numpy.int32"
      ]
     },
     "execution_count": 22,
     "metadata": {},
     "output_type": "execute_result"
    }
   ],
   "source": [
    "type(a[0])     #now dtype will be int"
   ]
  },
  {
   "cell_type": "code",
   "execution_count": null,
   "id": "413a67fb-1e03-4e15-931e-c500b5fc162b",
   "metadata": {},
   "outputs": [],
   "source": []
  },
  {
   "cell_type": "code",
   "execution_count": 53,
   "id": "fdbab83e-0fa5-4984-bbc3-f688be20d096",
   "metadata": {},
   "outputs": [
    {
     "data": {
      "text/plain": [
       "array([ 1.        ,  6.44444444, 11.88888889, 17.33333333, 22.77777778,\n",
       "       28.22222222, 33.66666667, 39.11111111, 44.55555556, 50.        ])"
      ]
     },
     "execution_count": 53,
     "metadata": {},
     "output_type": "execute_result"
    }
   ],
   "source": [
    "np.linspace(1,50,10)     \n",
    "\n",
    "#it will generate 10 evenly spaced elements between 1 to 50\n",
    "\n",
    "#The NumPy.linspace() function returns an array of evenly spaced float values within the specified interval [start, stop].\n",
    "#It is similar to NumPy.arange() function but instead of a step, it uses a sample number. "
   ]
  },
  {
   "cell_type": "code",
   "execution_count": null,
   "id": "2d5669ba-9eaa-4dd4-b128-85a35a72f93c",
   "metadata": {},
   "outputs": [],
   "source": []
  },
  {
   "cell_type": "code",
   "execution_count": 36,
   "id": "033c2a28-4c78-4b37-9611-c1c954d24f67",
   "metadata": {},
   "outputs": [
    {
     "data": {
      "text/plain": [
       "array([1, 2, 3, 4])"
      ]
     },
     "execution_count": 36,
     "metadata": {},
     "output_type": "execute_result"
    }
   ],
   "source": [
    "np.arange(1,5)\n",
    "\n",
    "#The arange([start,] stop[, step,][, dtype]) : Returns an array with evenly spaced elements as per the interval. "
   ]
  },
  {
   "cell_type": "code",
   "execution_count": 40,
   "id": "0c5e811a-82f4-48cf-84bb-210dd384dd91",
   "metadata": {},
   "outputs": [
    {
     "data": {
      "text/plain": [
       "array([1., 3., 5., 7., 9.])"
      ]
     },
     "execution_count": 40,
     "metadata": {},
     "output_type": "execute_result"
    }
   ],
   "source": [
    "np.arange(1,11,2,dtype=float)     #dtype = float    "
   ]
  },
  {
   "cell_type": "code",
   "execution_count": null,
   "id": "d2245ec4-5ac9-4750-a250-a0cff0671264",
   "metadata": {},
   "outputs": [],
   "source": []
  },
  {
   "cell_type": "code",
   "execution_count": 41,
   "id": "68e38e7a-4dff-45b5-96a6-c7ddef616d3e",
   "metadata": {},
   "outputs": [],
   "source": [
    "##  3D array"
   ]
  },
  {
   "cell_type": "code",
   "execution_count": 42,
   "id": "67a8e9e2-e2a1-434a-bfa9-62e5a28981d5",
   "metadata": {},
   "outputs": [
    {
     "data": {
      "text/plain": [
       "[[[1, 2, 3], [4, 5, 6], [7, 8, 9]],\n",
       " [[1, 2, 3], [4, 5, 6], [7, 8, 9]],\n",
       " [[1, 2, 3], [4, 5, 6], [7, 8, 9]],\n",
       " [[1, 2, 3], [4, 5, 6], [7, 8, 9]]]"
      ]
     },
     "execution_count": 42,
     "metadata": {},
     "output_type": "execute_result"
    }
   ],
   "source": [
    "lst = [[[1, 2, 3],[4, 5, 6],[7, 8, 9]],\n",
    "       [[1, 2, 3],[4, 5, 6],[7, 8, 9]],\n",
    "       [[1, 2, 3],[4, 5, 6],[7, 8, 9]],\n",
    "       [[1, 2, 3],[4, 5, 6],[7, 8, 9]]]\n",
    "lst"
   ]
  },
  {
   "cell_type": "code",
   "execution_count": 43,
   "id": "708f0f90-e43f-4194-9c77-5c7510086853",
   "metadata": {},
   "outputs": [
    {
     "data": {
      "text/plain": [
       "list"
      ]
     },
     "execution_count": 43,
     "metadata": {},
     "output_type": "execute_result"
    }
   ],
   "source": [
    "type(lst)"
   ]
  },
  {
   "cell_type": "code",
   "execution_count": 44,
   "id": "1c91917c-1f8e-4d61-a8d5-405e36163ae8",
   "metadata": {},
   "outputs": [
    {
     "data": {
      "text/plain": [
       "array([[[1, 2, 3],\n",
       "        [4, 5, 6],\n",
       "        [7, 8, 9]],\n",
       "\n",
       "       [[1, 2, 3],\n",
       "        [4, 5, 6],\n",
       "        [7, 8, 9]],\n",
       "\n",
       "       [[1, 2, 3],\n",
       "        [4, 5, 6],\n",
       "        [7, 8, 9]],\n",
       "\n",
       "       [[1, 2, 3],\n",
       "        [4, 5, 6],\n",
       "        [7, 8, 9]]])"
      ]
     },
     "execution_count": 44,
     "metadata": {},
     "output_type": "execute_result"
    }
   ],
   "source": [
    "a = np.array(lst)\n",
    "a"
   ]
  },
  {
   "cell_type": "code",
   "execution_count": 48,
   "id": "254bb7cc-6bb3-4104-b012-3f1c3f0834a6",
   "metadata": {},
   "outputs": [
    {
     "data": {
      "text/plain": [
       "(4, 3, 3)"
      ]
     },
     "execution_count": 48,
     "metadata": {},
     "output_type": "execute_result"
    }
   ],
   "source": [
    "a.shape\n",
    "\n",
    "# here 4 represents table\n",
    "# 3 represents rows\n",
    "# and 3 represents columns"
   ]
  },
  {
   "cell_type": "code",
   "execution_count": 47,
   "id": "b3b41c4b-8be2-4e88-9fff-1458c6c7f0e5",
   "metadata": {},
   "outputs": [
    {
     "data": {
      "text/plain": [
       "3"
      ]
     },
     "execution_count": 47,
     "metadata": {},
     "output_type": "execute_result"
    }
   ],
   "source": [
    "a.ndim\n",
    "\n",
    "#number of dimensions - 3 because it is a 3D array"
   ]
  },
  {
   "cell_type": "code",
   "execution_count": 51,
   "id": "a33be97c-0a2a-4a1b-95eb-1dbe4bf02ab3",
   "metadata": {},
   "outputs": [
    {
     "data": {
      "text/plain": [
       "36"
      ]
     },
     "execution_count": 51,
     "metadata": {},
     "output_type": "execute_result"
    }
   ],
   "source": [
    "a.size    \n",
    "\n",
    "# there are total 36 elements inside the whole array\n",
    "# a.shape = (4,3,3)\n",
    "# so, if we do 4*3*3 we will get 36   (4*3*3 = 36)"
   ]
  },
  {
   "cell_type": "code",
   "execution_count": 52,
   "id": "7e8501f1-b6de-47e1-8a3c-061eb4de98cb",
   "metadata": {},
   "outputs": [
    {
     "data": {
      "text/plain": [
       "array([[[1, 2, 3],\n",
       "        [4, 5, 6],\n",
       "        [7, 8, 9]],\n",
       "\n",
       "       [[1, 2, 3],\n",
       "        [4, 5, 6],\n",
       "        [7, 8, 9]],\n",
       "\n",
       "       [[1, 2, 3],\n",
       "        [4, 5, 6],\n",
       "        [7, 8, 9]],\n",
       "\n",
       "       [[1, 2, 3],\n",
       "        [4, 5, 6],\n",
       "        [7, 8, 9]]])"
      ]
     },
     "execution_count": 52,
     "metadata": {},
     "output_type": "execute_result"
    }
   ],
   "source": [
    "a"
   ]
  },
  {
   "cell_type": "code",
   "execution_count": 54,
   "id": "5fcfc04d-bdcf-483b-bab4-8e1eb05bc048",
   "metadata": {},
   "outputs": [
    {
     "data": {
      "text/plain": [
       "array([[1, 2, 3],\n",
       "       [4, 5, 6],\n",
       "       [7, 8, 9]])"
      ]
     },
     "execution_count": 54,
     "metadata": {},
     "output_type": "execute_result"
    }
   ],
   "source": [
    "a[0]\n",
    "\n",
    "#indexing"
   ]
  },
  {
   "cell_type": "code",
   "execution_count": 55,
   "id": "b16e3d5d-176d-4db1-9690-dde6661a48a4",
   "metadata": {},
   "outputs": [
    {
     "data": {
      "text/plain": [
       "array([[1, 2, 3],\n",
       "       [4, 5, 6],\n",
       "       [7, 8, 9]])"
      ]
     },
     "execution_count": 55,
     "metadata": {},
     "output_type": "execute_result"
    }
   ],
   "source": [
    "a[-1]"
   ]
  },
  {
   "cell_type": "code",
   "execution_count": 57,
   "id": "e573b50f-74c5-4cfc-9e48-3b1354581e0e",
   "metadata": {},
   "outputs": [
    {
     "data": {
      "text/plain": [
       "array([[[5, 6],\n",
       "        [8, 9]],\n",
       "\n",
       "       [[5, 6],\n",
       "        [8, 9]],\n",
       "\n",
       "       [[5, 6],\n",
       "        [8, 9]],\n",
       "\n",
       "       [[5, 6],\n",
       "        [8, 9]]])"
      ]
     },
     "execution_count": 57,
     "metadata": {},
     "output_type": "execute_result"
    }
   ],
   "source": [
    "#slicing\n",
    "\n",
    "a[0:,1:,1:]\n",
    "\n",
    "# a[table, rows, columns]"
   ]
  },
  {
   "cell_type": "code",
   "execution_count": 59,
   "id": "db816801-4fc8-4ab5-9f08-1864e5d425d9",
   "metadata": {},
   "outputs": [
    {
     "data": {
      "text/plain": [
       "array([1, 2, 3, 4, 5, 6, 7, 8, 9, 1, 2, 3, 4, 5, 6, 7, 8, 9, 1, 2, 3, 4,\n",
       "       5, 6, 7, 8, 9, 1, 2, 3, 4, 5, 6, 7, 8, 9])"
      ]
     },
     "execution_count": 59,
     "metadata": {},
     "output_type": "execute_result"
    }
   ],
   "source": [
    "arr=a.ravel()\n",
    "arr\n",
    "\n",
    "#The numpy.ravel() functions returns contiguous flattened array\n",
    "#(1D array with all the input-array elements and with the same type as it)."
   ]
  },
  {
   "cell_type": "code",
   "execution_count": 60,
   "id": "ae6e61ea-ad20-4481-b3f8-45bc2614f9b5",
   "metadata": {},
   "outputs": [
    {
     "data": {
      "text/plain": [
       "numpy.ndarray"
      ]
     },
     "execution_count": 60,
     "metadata": {},
     "output_type": "execute_result"
    }
   ],
   "source": [
    "type(arr)"
   ]
  },
  {
   "cell_type": "code",
   "execution_count": 63,
   "id": "f1ee3da1-7705-4ecb-865c-3e83c4a24d27",
   "metadata": {},
   "outputs": [
    {
     "data": {
      "text/plain": [
       "array([[[1, 2, 3],\n",
       "        [4, 5, 6],\n",
       "        [7, 8, 9]],\n",
       "\n",
       "       [[1, 2, 3],\n",
       "        [4, 5, 6],\n",
       "        [7, 8, 9]],\n",
       "\n",
       "       [[1, 2, 3],\n",
       "        [4, 5, 6],\n",
       "        [7, 8, 9]],\n",
       "\n",
       "       [[1, 2, 3],\n",
       "        [4, 5, 6],\n",
       "        [7, 8, 9]]])"
      ]
     },
     "execution_count": 63,
     "metadata": {},
     "output_type": "execute_result"
    }
   ],
   "source": [
    "a"
   ]
  },
  {
   "cell_type": "code",
   "execution_count": 65,
   "id": "aa18e4c2-f039-4b08-b627-575abc446ff0",
   "metadata": {},
   "outputs": [
    {
     "data": {
      "text/plain": [
       "array([1, 2, 3, 4, 5, 6, 7, 8, 9, 1, 2, 3, 4, 5, 6, 7, 8, 9, 1, 2, 3, 4,\n",
       "       5, 6, 7, 8, 9, 1, 2, 3, 4, 5, 6, 7, 8, 9])"
      ]
     },
     "execution_count": 65,
     "metadata": {},
     "output_type": "execute_result"
    }
   ],
   "source": [
    "# flatten() function returns a copy of the array collapsed into one dimension.\n",
    "\n",
    "a.flatten()"
   ]
  },
  {
   "cell_type": "code",
   "execution_count": null,
   "id": "a4e5ed74-268d-4452-89c8-68b55aa8502c",
   "metadata": {},
   "outputs": [],
   "source": []
  },
  {
   "cell_type": "code",
   "execution_count": 69,
   "id": "8b62071a-7f78-4659-a17c-d1717fa48eb4",
   "metadata": {},
   "outputs": [
    {
     "data": {
      "text/plain": [
       "array([1, 2, 3, 4, 5, 6, 7, 8, 9, 1, 2, 3, 4, 5, 6, 7, 8, 9, 1, 2, 3, 4,\n",
       "       5, 6, 7, 8, 9, 1, 2, 3, 4, 5, 6, 7, 8, 9])"
      ]
     },
     "execution_count": 69,
     "metadata": {},
     "output_type": "execute_result"
    }
   ],
   "source": [
    "# reshape() function shapes an array without changing the data of the array.\n",
    "\n",
    "a.reshape(36,)\n",
    "\n",
    "# we passed 36 as an argument because in the array 'a', its shape is (4,3,3) that is total elements is 4*3*3 = 36\n",
    "# so it will reshape the 3D array 'a' into 1-D array"
   ]
  },
  {
   "cell_type": "code",
   "execution_count": null,
   "id": "b324a46a-f019-4717-9891-e41466305e1e",
   "metadata": {},
   "outputs": [],
   "source": []
  },
  {
   "cell_type": "code",
   "execution_count": 73,
   "id": "801625ca-df70-4eb9-8134-a2bbdc0d7faf",
   "metadata": {},
   "outputs": [
    {
     "data": {
      "text/plain": [
       "array([[1, 2, 3, 4],\n",
       "       [5, 6, 7, 8]])"
      ]
     },
     "execution_count": 73,
     "metadata": {},
     "output_type": "execute_result"
    }
   ],
   "source": [
    "arr = np.arange(1,9)\n",
    "arr.reshape(2,4)\n",
    "\n",
    "# reshape(2,4)\n",
    "# 2 stands for rows\n",
    "# 3 stands for columns\n",
    "# so it will be reshaped into a 2*4 matrix"
   ]
  },
  {
   "cell_type": "code",
   "execution_count": null,
   "id": "1212f42c-10c7-45a8-b39f-8d6b87eea5ae",
   "metadata": {},
   "outputs": [],
   "source": []
  },
  {
   "cell_type": "code",
   "execution_count": 74,
   "id": "5a5f5c89-b816-4b4a-a237-5fc2d8972da4",
   "metadata": {},
   "outputs": [],
   "source": [
    "# argmax() function returns indices of the max element of the array in a particular axis. \n",
    "\n",
    "# Syntax   ------->    numpy.argmax(array, axis = None, out = None)\n",
    "# axis = 0, here 0 represents rows\n",
    "# axis = 1, here 0 represents columns\n",
    "\n",
    "# If No axis mentioned, so works on entire array"
   ]
  },
  {
   "cell_type": "code",
   "execution_count": 76,
   "id": "717dd264-ae1a-4d73-a29e-df26443cd40d",
   "metadata": {},
   "outputs": [
    {
     "data": {
      "text/plain": [
       "array([5, 2, 8, 6, 1, 9])"
      ]
     },
     "execution_count": 76,
     "metadata": {},
     "output_type": "execute_result"
    }
   ],
   "source": [
    "lst=[5,2,8,6,1,9]\n",
    "arr = np.array(lst)\n",
    "arr"
   ]
  },
  {
   "cell_type": "code",
   "execution_count": 79,
   "id": "55cf76e2-6d36-4e87-bcc5-65f778d4287f",
   "metadata": {},
   "outputs": [
    {
     "data": {
      "text/plain": [
       "5"
      ]
     },
     "execution_count": 79,
     "metadata": {},
     "output_type": "execute_result"
    }
   ],
   "source": [
    "arr.argmax()     # element on index 5 is max"
   ]
  },
  {
   "cell_type": "code",
   "execution_count": 80,
   "id": "d2bd06d6-f005-43cd-99b0-01ac82c18a1f",
   "metadata": {},
   "outputs": [
    {
     "data": {
      "text/plain": [
       "4"
      ]
     },
     "execution_count": 80,
     "metadata": {},
     "output_type": "execute_result"
    }
   ],
   "source": [
    "arr.argmin()    # element in index 4 is min"
   ]
  },
  {
   "cell_type": "code",
   "execution_count": 92,
   "id": "862e97dd-9006-4f89-9c7d-931fe0aa11ad",
   "metadata": {},
   "outputs": [
    {
     "data": {
      "text/plain": [
       "array([[5, 2, 8],\n",
       "       [6, 1, 9],\n",
       "       [3, 7, 4]])"
      ]
     },
     "execution_count": 92,
     "metadata": {},
     "output_type": "execute_result"
    }
   ],
   "source": [
    "lst=[5,2,8,6,1,9,3,7,4]\n",
    "arr2 = np.array(lst)\n",
    "arr2 = arr2.reshape(3,3)\n",
    "arr2"
   ]
  },
  {
   "cell_type": "code",
   "execution_count": 93,
   "id": "49dd4bf6-c2ce-4109-bfd2-1aa22a5fe3fd",
   "metadata": {},
   "outputs": [
    {
     "data": {
      "text/plain": [
       "array([[5, 2, 8],\n",
       "       [6, 1, 9],\n",
       "       [3, 7, 4]])"
      ]
     },
     "execution_count": 93,
     "metadata": {},
     "output_type": "execute_result"
    }
   ],
   "source": [
    "arr2"
   ]
  },
  {
   "cell_type": "code",
   "execution_count": 94,
   "id": "954e77c1-204d-4306-aaf1-724bcfef508e",
   "metadata": {},
   "outputs": [
    {
     "data": {
      "text/plain": [
       "array([1, 2, 1], dtype=int64)"
      ]
     },
     "execution_count": 94,
     "metadata": {},
     "output_type": "execute_result"
    }
   ],
   "source": [
    "arr2.argmax(axis=0)"
   ]
  },
  {
   "cell_type": "code",
   "execution_count": 95,
   "id": "b4f1003d-e58e-49db-82f5-95e067a06906",
   "metadata": {},
   "outputs": [
    {
     "data": {
      "text/plain": [
       "array([2, 2, 1], dtype=int64)"
      ]
     },
     "execution_count": 95,
     "metadata": {},
     "output_type": "execute_result"
    }
   ],
   "source": [
    "arr2.argmax(axis=1)"
   ]
  },
  {
   "cell_type": "code",
   "execution_count": 97,
   "id": "7916b876-86af-4de2-b9b0-339b749898a6",
   "metadata": {},
   "outputs": [],
   "source": [
    "# if there is any confusion on axes\n",
    "# then we can learn from\n",
    "\n",
    "#  https://www.sharpsightlabs.com/blog/numpy-axes-explained/#:~:text=In%20a%20NumPy%20array%2C%20axis,runs%20downward%20down%20the%20rows."
   ]
  },
  {
   "cell_type": "code",
   "execution_count": 101,
   "id": "10575d9d-d1ca-4100-806e-1a2906ebe99e",
   "metadata": {},
   "outputs": [
    {
     "data": {
      "text/plain": [
       "array([2, 1, 2], dtype=int64)"
      ]
     },
     "execution_count": 101,
     "metadata": {},
     "output_type": "execute_result"
    }
   ],
   "source": [
    "arr2.argmin(axis=0)"
   ]
  },
  {
   "cell_type": "code",
   "execution_count": 100,
   "id": "209660a4-0932-43f6-8272-2a772f933bfb",
   "metadata": {},
   "outputs": [
    {
     "data": {
      "text/plain": [
       "array([1, 1, 0], dtype=int64)"
      ]
     },
     "execution_count": 100,
     "metadata": {},
     "output_type": "execute_result"
    }
   ],
   "source": [
    "arr2.argmin(axis=1)"
   ]
  },
  {
   "cell_type": "code",
   "execution_count": 1,
   "id": "2dc0bca1-ec6e-4a46-88c5-a8cb5fc8f9c2",
   "metadata": {},
   "outputs": [],
   "source": [
    "# argsort() function is used to perform an indirect sort along the given axis using the algorithm specified by the kind keyword. \n",
    "# It returns an array of indices of the same shape as 'arr' that would sort the array. It means indices of value arranged in ascending order\n",
    "\n",
    "# Syntax : numpy.argsort(arr, axis=-1, kind=’quicksort’, order=None) "
   ]
  },
  {
   "cell_type": "code",
   "execution_count": 2,
   "id": "4e6e2d79-7ebd-4845-86ca-e5bf8dbba9a3",
   "metadata": {},
   "outputs": [
    {
     "data": {
      "text/plain": [
       "array([12, 45,  8,  1, 50, 20])"
      ]
     },
     "execution_count": 2,
     "metadata": {},
     "output_type": "execute_result"
    }
   ],
   "source": [
    "import numpy as np\n",
    "arr = np.array([12,45,8,1,50,20])\n",
    "arr"
   ]
  },
  {
   "cell_type": "code",
   "execution_count": 6,
   "id": "6caeffb4-f0ca-4711-96b3-a5359836bbe9",
   "metadata": {},
   "outputs": [
    {
     "data": {
      "text/plain": [
       "array([3, 2, 0, 5, 1, 4], dtype=int64)"
      ]
     },
     "execution_count": 6,
     "metadata": {},
     "output_type": "execute_result"
    }
   ],
   "source": [
    "arr.argsort()     \n",
    "\n",
    "# or np.argsort(arr)     "
   ]
  },
  {
   "cell_type": "code",
   "execution_count": 9,
   "id": "9349d9ac-5ef0-4a31-8006-0338fcae0ebd",
   "metadata": {},
   "outputs": [
    {
     "data": {
      "text/plain": [
       "array([[12, 45,  8],\n",
       "       [ 1, 50, 20]])"
      ]
     },
     "execution_count": 9,
     "metadata": {},
     "output_type": "execute_result"
    }
   ],
   "source": [
    "lst = [12,45,8,1,50,20]\n",
    "arr = np.array(lst)\n",
    "arr = arr.reshape(2,3)\n",
    "arr"
   ]
  },
  {
   "cell_type": "code",
   "execution_count": 12,
   "id": "d9f908b3-e99c-4a87-a8fe-260447d8efa7",
   "metadata": {},
   "outputs": [
    {
     "data": {
      "text/plain": [
       "array([[1, 0, 0],\n",
       "       [0, 1, 1]], dtype=int64)"
      ]
     },
     "execution_count": 12,
     "metadata": {},
     "output_type": "execute_result"
    }
   ],
   "source": [
    "arr.argsort(axis=0)       #according to rows"
   ]
  },
  {
   "cell_type": "code",
   "execution_count": 13,
   "id": "5c4e3228-b506-40ab-984f-315d5bdcb247",
   "metadata": {},
   "outputs": [
    {
     "data": {
      "text/plain": [
       "array([[2, 0, 1],\n",
       "       [0, 2, 1]], dtype=int64)"
      ]
     },
     "execution_count": 13,
     "metadata": {},
     "output_type": "execute_result"
    }
   ],
   "source": [
    "arr.argsort(axis=1)       #according to columns"
   ]
  },
  {
   "cell_type": "code",
   "execution_count": 14,
   "id": "6a0a6f03-3408-4553-97ae-f6d464420087",
   "metadata": {},
   "outputs": [],
   "source": [
    "# The numpy.amax() method returns the maximum of an array or maximum along the axis(if mentioned).\n",
    "# Syntax\n",
    "#       numpy.amax(arr, axis = None, out = None, keepdims = <class numpy._globals._NoValue>)\n",
    "\n",
    "# axis : [int or tuples of int] axis along which we want the max value. Otherwise, it will consider arr to be flattened."
   ]
  },
  {
   "cell_type": "code",
   "execution_count": 15,
   "id": "148460b4-8df9-4d15-a5c8-52a564ab29be",
   "metadata": {},
   "outputs": [
    {
     "data": {
      "text/plain": [
       "array([12, 45,  8,  1, 50, 20])"
      ]
     },
     "execution_count": 15,
     "metadata": {},
     "output_type": "execute_result"
    }
   ],
   "source": [
    "lst = [12,45,8,1,50,20]\n",
    "arr = np.array(lst)\n",
    "arr"
   ]
  },
  {
   "cell_type": "code",
   "execution_count": 17,
   "id": "5e7a331c-80e4-41bd-9d24-4c217cd8272a",
   "metadata": {},
   "outputs": [
    {
     "data": {
      "text/plain": [
       "50"
      ]
     },
     "execution_count": 17,
     "metadata": {},
     "output_type": "execute_result"
    }
   ],
   "source": [
    "np.amax(arr)"
   ]
  },
  {
   "cell_type": "code",
   "execution_count": 19,
   "id": "802c9f24-2701-4923-bd17-5c5b0c053980",
   "metadata": {},
   "outputs": [
    {
     "data": {
      "text/plain": [
       "array([[12, 45,  8],\n",
       "       [ 1, 50, 20]])"
      ]
     },
     "execution_count": 19,
     "metadata": {},
     "output_type": "execute_result"
    }
   ],
   "source": [
    "lst = [12,45,8,1,50,20]\n",
    "arr = np.array(lst)\n",
    "arr = arr.reshape(2,3)\n",
    "arr     \n",
    "\n",
    "#now arr is a 2D array"
   ]
  },
  {
   "cell_type": "code",
   "execution_count": 21,
   "id": "caa987c1-3bfc-4ba2-92fa-de9e40edf1ba",
   "metadata": {},
   "outputs": [
    {
     "data": {
      "text/plain": [
       "50"
      ]
     },
     "execution_count": 21,
     "metadata": {},
     "output_type": "execute_result"
    }
   ],
   "source": [
    "np.amax(arr)\n",
    "# if we do not give any axis, by default it will consider arr to be flattened."
   ]
  },
  {
   "cell_type": "code",
   "execution_count": 23,
   "id": "24df7fce-e468-422b-a578-43998627ebbc",
   "metadata": {},
   "outputs": [
    {
     "data": {
      "text/plain": [
       "array([12, 50, 20])"
      ]
     },
     "execution_count": 23,
     "metadata": {},
     "output_type": "execute_result"
    }
   ],
   "source": [
    "np.amax(arr,axis=0)"
   ]
  },
  {
   "cell_type": "code",
   "execution_count": 24,
   "id": "8cb22a83-287f-4bbd-8830-5a151076cb6d",
   "metadata": {},
   "outputs": [
    {
     "data": {
      "text/plain": [
       "array([45, 50])"
      ]
     },
     "execution_count": 24,
     "metadata": {},
     "output_type": "execute_result"
    }
   ],
   "source": [
    "np.amax(arr,axis=1)"
   ]
  },
  {
   "cell_type": "code",
   "execution_count": null,
   "id": "5e62b9c1-1f11-415c-9b33-21df865c597c",
   "metadata": {},
   "outputs": [],
   "source": []
  },
  {
   "cell_type": "code",
   "execution_count": 25,
   "id": "800a289a-c3a1-49c7-84a5-808de601b837",
   "metadata": {},
   "outputs": [],
   "source": [
    "# numpy.amin() function returns minimum of an array or minimum along axis(if mentioned). \n",
    "# Syntax : \n",
    "#       numpy.amin(arr, axis = None, out = None, keepdims = <class numpy._globals._NoValue>)\n",
    "\n",
    "# axis : [int or tuples of int]axis along which we want the min value. Otherwise, it will consider arr to be flattened.\n",
    "\n",
    "#similar to amax function, but this calculates min...."
   ]
  },
  {
   "cell_type": "code",
   "execution_count": 26,
   "id": "aa539709-d8b9-4f8c-9007-838df3684f41",
   "metadata": {},
   "outputs": [
    {
     "data": {
      "text/plain": [
       "array([12, 45,  8,  1, 50, 20])"
      ]
     },
     "execution_count": 26,
     "metadata": {},
     "output_type": "execute_result"
    }
   ],
   "source": [
    "lst = [12,45,8,1,50,20]\n",
    "arr = np.array(lst)\n",
    "arr"
   ]
  },
  {
   "cell_type": "code",
   "execution_count": 27,
   "id": "7c9f3c0c-87ed-4af4-9441-553d2ef98b46",
   "metadata": {},
   "outputs": [
    {
     "data": {
      "text/plain": [
       "1"
      ]
     },
     "execution_count": 27,
     "metadata": {},
     "output_type": "execute_result"
    }
   ],
   "source": [
    "np.amin(arr)"
   ]
  },
  {
   "cell_type": "code",
   "execution_count": 28,
   "id": "319b938e-786a-4fa9-aa78-91429eec3eee",
   "metadata": {},
   "outputs": [
    {
     "data": {
      "text/plain": [
       "array([[12, 45,  8],\n",
       "       [ 1, 50, 20]])"
      ]
     },
     "execution_count": 28,
     "metadata": {},
     "output_type": "execute_result"
    }
   ],
   "source": [
    "lst = [12,45,8,1,50,20]\n",
    "arr = np.array(lst)\n",
    "arr = arr.reshape(2,3)\n",
    "arr     \n",
    "\n",
    "#now arr is a 2D array"
   ]
  },
  {
   "cell_type": "code",
   "execution_count": 30,
   "id": "335cd1c8-43ea-40b2-94ca-766ca0beb1e8",
   "metadata": {},
   "outputs": [
    {
     "data": {
      "text/plain": [
       "array([ 1, 45,  8])"
      ]
     },
     "execution_count": 30,
     "metadata": {},
     "output_type": "execute_result"
    }
   ],
   "source": [
    "np.amin(arr,axis=0)"
   ]
  },
  {
   "cell_type": "code",
   "execution_count": 31,
   "id": "df410744-bcc7-44c4-8286-d411969cbff6",
   "metadata": {},
   "outputs": [
    {
     "data": {
      "text/plain": [
       "array([8, 1])"
      ]
     },
     "execution_count": 31,
     "metadata": {},
     "output_type": "execute_result"
    }
   ],
   "source": [
    "np.amin(arr,axis=1)"
   ]
  },
  {
   "cell_type": "code",
   "execution_count": 44,
   "id": "eca70a27-dbf1-4c37-84e6-acbdc1a31246",
   "metadata": {},
   "outputs": [],
   "source": [
    "# sort function\n",
    "# sort function sorts the array and then update the changes made into the original array\n",
    "# so, the original array gets sorted"
   ]
  },
  {
   "cell_type": "code",
   "execution_count": 33,
   "id": "a96c6900-82c7-4707-91b3-9a16dcfd3081",
   "metadata": {},
   "outputs": [
    {
     "data": {
      "text/plain": [
       "array([12, 45,  8,  1, 50, 20])"
      ]
     },
     "execution_count": 33,
     "metadata": {},
     "output_type": "execute_result"
    }
   ],
   "source": [
    "arr = np.array([12,45,8,1,50,20])\n",
    "arr"
   ]
  },
  {
   "cell_type": "code",
   "execution_count": 37,
   "id": "43b6e76b-17e6-485d-bf97-5a3e8a8585dc",
   "metadata": {},
   "outputs": [
    {
     "data": {
      "text/plain": [
       "array([ 1,  8, 12, 20, 45, 50])"
      ]
     },
     "execution_count": 37,
     "metadata": {},
     "output_type": "execute_result"
    }
   ],
   "source": [
    "arr.sort()\n",
    "arr         \n",
    "# original array'arr' has been sorted"
   ]
  },
  {
   "cell_type": "code",
   "execution_count": 38,
   "id": "afad825c-d88b-41bf-aedb-1abae32f16c4",
   "metadata": {},
   "outputs": [
    {
     "data": {
      "text/plain": [
       "array([[12, 45,  8],\n",
       "       [ 1, 50, 20]])"
      ]
     },
     "execution_count": 38,
     "metadata": {},
     "output_type": "execute_result"
    }
   ],
   "source": [
    "lst = [12,45,8,1,50,20]\n",
    "arr = np.array(lst)\n",
    "arr = arr.reshape(2,3)\n",
    "arr     "
   ]
  },
  {
   "cell_type": "code",
   "execution_count": 39,
   "id": "87536b41-980c-4463-9806-be8d85409c44",
   "metadata": {},
   "outputs": [],
   "source": [
    "arr.sort(axis=0)"
   ]
  },
  {
   "cell_type": "code",
   "execution_count": 40,
   "id": "8a1664c3-e528-4df7-890d-cbf5d74fd013",
   "metadata": {},
   "outputs": [
    {
     "data": {
      "text/plain": [
       "array([[ 1, 45,  8],\n",
       "       [12, 50, 20]])"
      ]
     },
     "execution_count": 40,
     "metadata": {},
     "output_type": "execute_result"
    }
   ],
   "source": [
    "arr"
   ]
  },
  {
   "cell_type": "code",
   "execution_count": 41,
   "id": "a6c23266-1b33-48d8-a9e7-363ef85afb66",
   "metadata": {},
   "outputs": [],
   "source": [
    "arr.sort(axis=1)"
   ]
  },
  {
   "cell_type": "code",
   "execution_count": 42,
   "id": "184fec59-35ca-4743-8af4-04425ba4ce39",
   "metadata": {},
   "outputs": [
    {
     "data": {
      "text/plain": [
       "array([[ 1,  8, 45],\n",
       "       [12, 20, 50]])"
      ]
     },
     "execution_count": 42,
     "metadata": {},
     "output_type": "execute_result"
    }
   ],
   "source": [
    "arr"
   ]
  },
  {
   "cell_type": "code",
   "execution_count": 47,
   "id": "8200f7ad-ff9d-4f09-b47b-502230245603",
   "metadata": {},
   "outputs": [
    {
     "data": {
      "text/plain": [
       "array([[12, 45,  8],\n",
       "       [ 1, 50, 20]])"
      ]
     },
     "execution_count": 47,
     "metadata": {},
     "output_type": "execute_result"
    }
   ],
   "source": [
    "lst = [12,45,8,1,50,20]\n",
    "arr = np.array(lst)\n",
    "arr = arr.reshape(2,3)\n",
    "arr"
   ]
  },
  {
   "cell_type": "code",
   "execution_count": 52,
   "id": "81a56d1b-b12b-4b82-809e-a1bfe488214e",
   "metadata": {},
   "outputs": [
    {
     "data": {
      "text/plain": [
       "array([[ 8, 12, 45],\n",
       "       [ 1, 20, 50]])"
      ]
     },
     "execution_count": 52,
     "metadata": {},
     "output_type": "execute_result"
    }
   ],
   "source": [
    "arr.sort()\n",
    "arr\n",
    "\n",
    "# with no axes passes"
   ]
  },
  {
   "cell_type": "code",
   "execution_count": null,
   "id": "fca9d287-bc37-46b8-a52c-ebd806cd244f",
   "metadata": {},
   "outputs": [],
   "source": []
  },
  {
   "cell_type": "code",
   "execution_count": null,
   "id": "6e8ed025-7800-4a27-82cb-2fc4989b830a",
   "metadata": {},
   "outputs": [],
   "source": []
  },
  {
   "cell_type": "code",
   "execution_count": 72,
   "id": "21239281-944d-4cf4-adcf-18e61d37b4ec",
   "metadata": {},
   "outputs": [],
   "source": [
    "# numpy.full(shape, fill_value, dtype = None, order = ‘C’): Return a new array with the same shape and type as a given array filled with a fill_value.\n",
    "# Parameters :\n",
    "    # shape      : Number of rows\n",
    "    # order      : C_contiguous or F_contiguous\n",
    "    # dtype      : [optional, float(by Default)] Data type of returned array.  \n",
    "    # fill_value : [bool, optional] Value to fill in the array.\n",
    "# Returns    :\n",
    "    #   ndarray"
   ]
  },
  {
   "cell_type": "code",
   "execution_count": 56,
   "id": "97f95c98-eb8c-4acc-9ace-fa9d32789df4",
   "metadata": {},
   "outputs": [
    {
     "data": {
      "text/plain": [
       "array([[10, 10, 10],\n",
       "       [10, 10, 10]])"
      ]
     },
     "execution_count": 56,
     "metadata": {},
     "output_type": "execute_result"
    }
   ],
   "source": [
    "a=np.full((2,3),10)\n",
    "a"
   ]
  },
  {
   "cell_type": "code",
   "execution_count": 57,
   "id": "e55101af-ae8f-4afc-a093-7e7c30a9c781",
   "metadata": {},
   "outputs": [
    {
     "data": {
      "text/plain": [
       "numpy.ndarray"
      ]
     },
     "execution_count": 57,
     "metadata": {},
     "output_type": "execute_result"
    }
   ],
   "source": [
    "type(a)"
   ]
  },
  {
   "cell_type": "code",
   "execution_count": 58,
   "id": "3ac9f646-3512-4ebf-be54-68e953c03f68",
   "metadata": {},
   "outputs": [
    {
     "data": {
      "text/plain": [
       "numpy.int32"
      ]
     },
     "execution_count": 58,
     "metadata": {},
     "output_type": "execute_result"
    }
   ],
   "source": [
    "type(a[0][0])"
   ]
  },
  {
   "cell_type": "code",
   "execution_count": 60,
   "id": "f98e827b-aa51-4eb6-9e0c-16da6427b426",
   "metadata": {},
   "outputs": [
    {
     "data": {
      "text/plain": [
       "array([[10.1, 10.1, 10.1],\n",
       "       [10.1, 10.1, 10.1],\n",
       "       [10.1, 10.1, 10.1]])"
      ]
     },
     "execution_count": 60,
     "metadata": {},
     "output_type": "execute_result"
    }
   ],
   "source": [
    "a=np.full([3, 3], 10.1)\n",
    "a"
   ]
  },
  {
   "cell_type": "code",
   "execution_count": 61,
   "id": "d579eb46-1ef1-4700-8039-288c8dde6d97",
   "metadata": {},
   "outputs": [
    {
     "data": {
      "text/plain": [
       "numpy.float64"
      ]
     },
     "execution_count": 61,
     "metadata": {},
     "output_type": "execute_result"
    }
   ],
   "source": [
    "type(a[0][0])"
   ]
  },
  {
   "cell_type": "code",
   "execution_count": 69,
   "id": "ce69a96d-5885-4cce-88db-09b98476dbd8",
   "metadata": {},
   "outputs": [
    {
     "data": {
      "text/plain": [
       "array([10., 10., 10.])"
      ]
     },
     "execution_count": 69,
     "metadata": {},
     "output_type": "execute_result"
    }
   ],
   "source": [
    "np.full(3,10,dtype=float)"
   ]
  },
  {
   "cell_type": "code",
   "execution_count": null,
   "id": "6ee2e6a8-1586-4b7c-a0da-cf36dbd25f76",
   "metadata": {},
   "outputs": [],
   "source": []
  },
  {
   "cell_type": "code",
   "execution_count": 73,
   "id": "04043bca-5aee-4a1b-8ee1-b4d0b1ae32d5",
   "metadata": {},
   "outputs": [],
   "source": [
    "# numpy.identity(n, dtype = None) : Return a identity matrix i.e. a square matrix with ones on the main diagonal.\n",
    "# Parameters : \n",
    "    # n     : [int] Dimension n x n of output array  \n",
    "    # dtype : [optional, float(by Default)] Data type of returned array.  \n",
    "# Returns : \n",
    "    # identity array of dimension n x n,  with its main diagonal set to one, and all other elements 0."
   ]
  },
  {
   "cell_type": "code",
   "execution_count": 74,
   "id": "5d7b164a-dcb5-4548-8efe-80cd050d5d7b",
   "metadata": {},
   "outputs": [
    {
     "data": {
      "text/plain": [
       "array([[1., 0., 0.],\n",
       "       [0., 1., 0.],\n",
       "       [0., 0., 1.]])"
      ]
     },
     "execution_count": 74,
     "metadata": {},
     "output_type": "execute_result"
    }
   ],
   "source": [
    "np.identity(3)\n",
    "\n",
    "#dtype is float, by default"
   ]
  },
  {
   "cell_type": "code",
   "execution_count": 76,
   "id": "b22bc531-8bb5-48cf-a01e-0e00de8c8c67",
   "metadata": {},
   "outputs": [
    {
     "data": {
      "text/plain": [
       "array([[1, 0],\n",
       "       [0, 1]])"
      ]
     },
     "execution_count": 76,
     "metadata": {},
     "output_type": "execute_result"
    }
   ],
   "source": [
    "np.identity(2,dtype=int)"
   ]
  },
  {
   "cell_type": "code",
   "execution_count": 87,
   "id": "efdf891c-c288-4cb9-96bf-f31550328010",
   "metadata": {},
   "outputs": [],
   "source": [
    "# numpy.count_nonzero() function counts the number of non-zero values in the array arr.\n",
    "\n",
    "#Syntax : numpy.count_nonzero(arr, axis=None)\n",
    "\n",
    "#Parameters :\n",
    "   #arr : [array_like] The array for which to count non-zeros.\n",
    "   #axis : [int or tuple, optional] Axis or tuple of axes along which to count non-zeros. Default is None, meaning that non-zeros will be counted along a flattened version of arr.\n",
    "\n",
    "#Return : \n",
    "   #[int or array of int] Number of non-zero values in the array along a given axis. Otherwise, the total number of non-zero values in the array is returned."
   ]
  },
  {
   "cell_type": "code",
   "execution_count": 88,
   "id": "fb051cc6-0fc0-42cd-80fb-1038dd29244d",
   "metadata": {},
   "outputs": [
    {
     "data": {
      "text/plain": [
       "array([10,  3,  0, -1,  0,  6])"
      ]
     },
     "execution_count": 88,
     "metadata": {},
     "output_type": "execute_result"
    }
   ],
   "source": [
    "arr = np.array([10,3,0,-1,0,6])\n",
    "arr"
   ]
  },
  {
   "cell_type": "code",
   "execution_count": 89,
   "id": "ffb7b104-f429-468f-af2b-de0948aa25c8",
   "metadata": {},
   "outputs": [
    {
     "data": {
      "text/plain": [
       "4"
      ]
     },
     "execution_count": 89,
     "metadata": {},
     "output_type": "execute_result"
    }
   ],
   "source": [
    "np.count_nonzero(arr)"
   ]
  },
  {
   "cell_type": "code",
   "execution_count": 90,
   "id": "7b5f430b-7ba6-41e5-97ec-c9842719fb88",
   "metadata": {},
   "outputs": [
    {
     "data": {
      "text/plain": [
       "array([[10,  3,  0],\n",
       "       [ 0,  4, -2],\n",
       "       [ 6,  8,  9]])"
      ]
     },
     "execution_count": 90,
     "metadata": {},
     "output_type": "execute_result"
    }
   ],
   "source": [
    "lst = [[10,3,0],\n",
    "       [0,4,-2],\n",
    "       [6,8,9]]\n",
    "arr = np.array(lst)\n",
    "arr"
   ]
  },
  {
   "cell_type": "code",
   "execution_count": 92,
   "id": "47b940b6-716e-48b8-9f14-e9cf2c71b263",
   "metadata": {},
   "outputs": [
    {
     "data": {
      "text/plain": [
       "7"
      ]
     },
     "execution_count": 92,
     "metadata": {},
     "output_type": "execute_result"
    }
   ],
   "source": [
    "np.count_nonzero(arr)"
   ]
  },
  {
   "cell_type": "code",
   "execution_count": 93,
   "id": "74a216d4-60ce-41fa-9b49-88f00c16ec4c",
   "metadata": {},
   "outputs": [
    {
     "data": {
      "text/plain": [
       "array([2, 3, 2], dtype=int64)"
      ]
     },
     "execution_count": 93,
     "metadata": {},
     "output_type": "execute_result"
    }
   ],
   "source": [
    "np.count_nonzero(arr,axis=0)"
   ]
  },
  {
   "cell_type": "code",
   "execution_count": 95,
   "id": "4a052366-f828-4a45-b2a7-f6e31913b0d9",
   "metadata": {},
   "outputs": [
    {
     "data": {
      "text/plain": [
       "array([2, 2, 3], dtype=int64)"
      ]
     },
     "execution_count": 95,
     "metadata": {},
     "output_type": "execute_result"
    }
   ],
   "source": [
    "np.count_nonzero(arr,axis=1)"
   ]
  },
  {
   "cell_type": "code",
   "execution_count": null,
   "id": "e296469e-738e-4605-ae61-d031b439d83c",
   "metadata": {},
   "outputs": [],
   "source": []
  },
  {
   "cell_type": "code",
   "execution_count": 99,
   "id": "320b9e42-f498-42b2-8ba0-200000f59156",
   "metadata": {},
   "outputs": [],
   "source": [
    "#numpy.argwhere() function is used to find the indices of array elements that are non-zero, grouped by element.\n",
    "\n",
    "#Syntax : numpy.argwhere(arr)\n",
    "#Parameters :\n",
    "   #arr : [array_like] Input array.\n",
    "#Return : \n",
    "   #[ndarray] Indices of elements that are non-zero. Indices are grouped by element."
   ]
  },
  {
   "cell_type": "code",
   "execution_count": 97,
   "id": "1b4cecb0-f120-4bd5-8ffe-4cffecfdf271",
   "metadata": {},
   "outputs": [
    {
     "data": {
      "text/plain": [
       "array([ 2,  4,  0, -2,  8,  0])"
      ]
     },
     "execution_count": 97,
     "metadata": {},
     "output_type": "execute_result"
    }
   ],
   "source": [
    "arr = np.array([2,4,0,-2,8,0])\n",
    "arr"
   ]
  },
  {
   "cell_type": "code",
   "execution_count": 98,
   "id": "7f820915-51a4-4912-b9ba-8d46e209aec3",
   "metadata": {},
   "outputs": [
    {
     "data": {
      "text/plain": [
       "array([[0],\n",
       "       [1],\n",
       "       [3],\n",
       "       [4]], dtype=int64)"
      ]
     },
     "execution_count": 98,
     "metadata": {},
     "output_type": "execute_result"
    }
   ],
   "source": [
    "np.argwhere(arr)"
   ]
  },
  {
   "cell_type": "code",
   "execution_count": 101,
   "id": "68abc981-99cf-4293-bed3-ad673b5ebb0b",
   "metadata": {},
   "outputs": [
    {
     "data": {
      "text/plain": [
       "array([[10,  3,  0],\n",
       "       [ 0,  4, -2],\n",
       "       [ 6,  8,  9]])"
      ]
     },
     "execution_count": 101,
     "metadata": {},
     "output_type": "execute_result"
    }
   ],
   "source": [
    "# 2D array\n",
    "\n",
    "lst = [[10,3,0],\n",
    "       [0,4,-2],\n",
    "       [6,8,9]]\n",
    "arr = np.array(lst)\n",
    "arr"
   ]
  },
  {
   "cell_type": "code",
   "execution_count": 102,
   "id": "a9a5de0f-bc0f-459d-a2bd-e4122936c059",
   "metadata": {},
   "outputs": [
    {
     "data": {
      "text/plain": [
       "array([[0, 0],\n",
       "       [0, 1],\n",
       "       [1, 1],\n",
       "       [1, 2],\n",
       "       [2, 0],\n",
       "       [2, 1],\n",
       "       [2, 2]], dtype=int64)"
      ]
     },
     "execution_count": 102,
     "metadata": {},
     "output_type": "execute_result"
    }
   ],
   "source": [
    "np.argwhere(arr)"
   ]
  },
  {
   "cell_type": "code",
   "execution_count": 104,
   "id": "427e67a5-f073-4e0c-8b2d-fcff090340d9",
   "metadata": {},
   "outputs": [
    {
     "data": {
      "text/plain": [
       "array([[0, 0],\n",
       "       [2, 1],\n",
       "       [2, 2]], dtype=int64)"
      ]
     },
     "execution_count": 104,
     "metadata": {},
     "output_type": "execute_result"
    }
   ],
   "source": [
    "np.argwhere(arr>6)\n",
    "\n",
    "# (arr>6) means that \"Output indices greater than 6\""
   ]
  },
  {
   "cell_type": "code",
   "execution_count": null,
   "id": "b01e575d-4172-485d-8195-4a50f22f6089",
   "metadata": {},
   "outputs": [],
   "source": []
  },
  {
   "cell_type": "code",
   "execution_count": 117,
   "id": "0a1a6e04-3f5a-4bc5-9f9f-37e0992ac7c0",
   "metadata": {},
   "outputs": [],
   "source": [
    "# numpy.absolute(arr, out = None, ufunc ‘absolute’) : \n",
    "# or numpy.abs()\n",
    "\n",
    "# This mathematical function helps user to calculate absolute value of each element. \n",
    "\n",
    "# For complex input, a + ib, the absolute value is \\sqrt { a^2 + b^2 }. \n",
    "# Parameters :\n",
    "   #arr  : [array_like] Input array or object whose elements, we need to test.\n",
    "#Return :\n",
    "   #An array with absolute value of each array."
   ]
  },
  {
   "cell_type": "code",
   "execution_count": 116,
   "id": "7547bb51-9784-45dc-a557-8d76189535e4",
   "metadata": {},
   "outputs": [
    {
     "data": {
      "text/plain": [
       "array([  1,   3,  15, 466])"
      ]
     },
     "execution_count": 116,
     "metadata": {},
     "output_type": "execute_result"
    }
   ],
   "source": [
    "lst = [1, -3, 15, -466] \n",
    "np.abs(lst)"
   ]
  },
  {
   "cell_type": "code",
   "execution_count": 111,
   "id": "973f59e6-8409-4b55-ad67-423cec78d672",
   "metadata": {},
   "outputs": [
    {
     "data": {
      "text/plain": [
       "array([[-10,   3,  -8],\n",
       "       [ -5,   4,  -2],\n",
       "       [ -6,  -8,   9]])"
      ]
     },
     "execution_count": 111,
     "metadata": {},
     "output_type": "execute_result"
    }
   ],
   "source": [
    "lst = [[-10,3,-8],\n",
    "       [-5,4,-2],\n",
    "       [-6,-8,9]]\n",
    "arr = np.array(lst)\n",
    "arr"
   ]
  },
  {
   "cell_type": "code",
   "execution_count": 112,
   "id": "38d323f2-7ffd-432d-baf0-9d4fc19b463c",
   "metadata": {},
   "outputs": [
    {
     "data": {
      "text/plain": [
       "array([[10,  3,  8],\n",
       "       [ 5,  4,  2],\n",
       "       [ 6,  8,  9]])"
      ]
     },
     "execution_count": 112,
     "metadata": {},
     "output_type": "execute_result"
    }
   ],
   "source": [
    "np.absolute(arr)"
   ]
  },
  {
   "cell_type": "code",
   "execution_count": 119,
   "id": "e3cb3c74-c60e-427d-9039-cb458f9e2e11",
   "metadata": {},
   "outputs": [
    {
     "data": {
      "text/plain": [
       "5.0"
      ]
     },
     "execution_count": 119,
     "metadata": {},
     "output_type": "execute_result"
    }
   ],
   "source": [
    "# absolute function working on complex numbers\n",
    "\n",
    "a = 4 + 3j\n",
    "np.abs(a)\n",
    "\n",
    "# or we can write np.absolute(a)\n",
    "\n",
    "# ((4)^2 + (3)^2)   whole sqrt\n",
    "# 16 + 9 = 25\n",
    "# 25 whole sqrt = 5.0"
   ]
  },
  {
   "cell_type": "code",
   "execution_count": null,
   "id": "de6504a2-1ce2-479a-839a-bd44e0c9e2cf",
   "metadata": {},
   "outputs": [],
   "source": []
  },
  {
   "cell_type": "code",
   "execution_count": 128,
   "id": "9981a48a-ace2-4336-b56b-d549521a3f97",
   "metadata": {},
   "outputs": [
    {
     "data": {
      "text/plain": [
       "array([ 10,  20,  30, 100,  40,  50,  60])"
      ]
     },
     "execution_count": 128,
     "metadata": {},
     "output_type": "execute_result"
    }
   ],
   "source": [
    "# hstack()\n",
    "# numpy.hstack() function is used to stack the sequence of input arrays horizontally (i.e. column wise) to make a single array.\n",
    "\n",
    "arr1 = np.array([10,20,30,100])\n",
    "arr2 = np.array([40,50,60])\n",
    "\n",
    "#Stacking the 2 arrays horizontally\n",
    "np.hstack((arr1,arr2))"
   ]
  },
  {
   "cell_type": "code",
   "execution_count": 139,
   "id": "c0428672-e034-405b-aec1-923b0597b05e",
   "metadata": {},
   "outputs": [
    {
     "name": "stdout",
     "output_type": "stream",
     "text": [
      "1st Input array : \n",
      " [[ 1  2  3]\n",
      " [-1 -2 -3]]\n",
      "2nd Input array : \n",
      " [[ 4  5  6]\n",
      " [-4 -5 -6]]\n",
      "Output stacked array :\n",
      "  [[ 1  2  3  4  5  6]\n",
      " [-1 -2 -3 -4 -5 -6]]\n"
     ]
    }
   ],
   "source": [
    "# hstack in 2D array\n",
    "\n",
    "import numpy as np\n",
    "\n",
    "# input array \n",
    "in_arr1 = np.array([[ 1, 2, 3], [ -1, -2, -3]] ) \n",
    "print (\"1st Input array : \\n\", in_arr1) \n",
    "\n",
    "in_arr2 = np.array([[ 4, 5, 6], [ -4, -5, -6]] ) \n",
    "print (\"2nd Input array : \\n\", in_arr2) \n",
    "\n",
    "# Stacking the two arrays horizontally \n",
    "out_arr = np.hstack((in_arr1, in_arr2)) \n",
    "print (\"Output stacked array :\\n \", out_arr)"
   ]
  },
  {
   "cell_type": "code",
   "execution_count": null,
   "id": "4ea8ee77-d732-4520-90cd-cdde71cddcba",
   "metadata": {},
   "outputs": [],
   "source": []
  },
  {
   "cell_type": "code",
   "execution_count": 142,
   "id": "3f61a24b-5b96-4fe6-b6e4-82c263ea8a32",
   "metadata": {},
   "outputs": [
    {
     "data": {
      "text/plain": [
       "array([[10, 20, 30],\n",
       "       [40, 50, 60]])"
      ]
     },
     "execution_count": 142,
     "metadata": {},
     "output_type": "execute_result"
    }
   ],
   "source": [
    "# vstack()\n",
    "# numpy.vstack() function is used to stack the sequence of input arrays vertically to make a single array.\n",
    "\n",
    "arr1 = np.array([10,20,30])\n",
    "arr2 = np.array([40,50,60])\n",
    "\n",
    "#Stacking the 2 arrays horizontally\n",
    "np.vstack((arr1,arr2))"
   ]
  },
  {
   "cell_type": "code",
   "execution_count": 143,
   "id": "ece70169-b2db-4b4a-917a-9c2eb777e3d7",
   "metadata": {},
   "outputs": [
    {
     "name": "stdout",
     "output_type": "stream",
     "text": [
      "1st Input array : \n",
      " [[ 1  2  3]\n",
      " [-1 -2 -3]]\n",
      "2nd Input array : \n",
      " [[ 4  5  6]\n",
      " [-4 -5 -6]]\n",
      "Output stacked array :\n",
      "  [[ 1  2  3]\n",
      " [-1 -2 -3]\n",
      " [ 4  5  6]\n",
      " [-4 -5 -6]]\n"
     ]
    }
   ],
   "source": [
    "#vstack in 2D array\n",
    "\n",
    "import numpy as np \n",
    "  \n",
    "# input array \n",
    "in_arr1 = np.array([[ 1, 2, 3], [ -1, -2, -3]] ) \n",
    "print (\"1st Input array : \\n\", in_arr1)  \n",
    "  \n",
    "in_arr2 = np.array([[ 4, 5, 6], [ -4, -5, -6]] ) \n",
    "print (\"2nd Input array : \\n\", in_arr2)  \n",
    "  \n",
    "# Stacking the two arrays vertically \n",
    "out_arr = np.vstack((in_arr1, in_arr2)) \n",
    "print (\"Output stacked array :\\n \", out_arr) "
   ]
  },
  {
   "cell_type": "code",
   "execution_count": null,
   "id": "20775b0a-e75a-4d15-a5c7-42f190044b16",
   "metadata": {},
   "outputs": [],
   "source": []
  },
  {
   "cell_type": "code",
   "execution_count": 145,
   "id": "6c3d2f9c-f730-4837-8b4f-0564f5636699",
   "metadata": {},
   "outputs": [],
   "source": [
    "# where()\n",
    "# np.where() function is used to return the indices of elements in an input array where the given condition is true. "
   ]
  },
  {
   "cell_type": "code",
   "execution_count": 148,
   "id": "aff3046d-6199-4b78-be51-dacdba101aac",
   "metadata": {},
   "outputs": [
    {
     "data": {
      "text/plain": [
       "(array([3, 4], dtype=int64),)"
      ]
     },
     "execution_count": 148,
     "metadata": {},
     "output_type": "execute_result"
    }
   ],
   "source": [
    "arr = np.array([1,2,3,4,5])\n",
    "np.where(arr>3)\n",
    "\n",
    "# np.where is used to find the indices of elements that are greater than 3 in the array ‘arr’. "
   ]
  },
  {
   "cell_type": "code",
   "execution_count": 150,
   "id": "19298380-da0c-43e1-b445-c383e070c221",
   "metadata": {},
   "outputs": [
    {
     "data": {
      "text/plain": [
       "array([[1, 2, 3],\n",
       "       [4, 5, 6],\n",
       "       [7, 8, 9]])"
      ]
     },
     "execution_count": 150,
     "metadata": {},
     "output_type": "execute_result"
    }
   ],
   "source": [
    "arr = np.array([[1, 2, 3], \n",
    "                [4, 5, 6], \n",
    "                [7, 8, 9]])\n",
    "arr"
   ]
  },
  {
   "cell_type": "code",
   "execution_count": 151,
   "id": "ba4124ee-c763-47aa-a5c1-62d63e98d0e0",
   "metadata": {},
   "outputs": [
    {
     "data": {
      "text/plain": [
       "(array([1, 2, 2, 2], dtype=int64), array([2, 0, 1, 2], dtype=int64))"
      ]
     },
     "execution_count": 151,
     "metadata": {},
     "output_type": "execute_result"
    }
   ],
   "source": [
    "np.where(arr>5)"
   ]
  },
  {
   "cell_type": "code",
   "execution_count": 152,
   "id": "74983b3b-db29-4884-9961-8d56c9dac794",
   "metadata": {},
   "outputs": [],
   "source": [
    "# In the above example, we created a two-dimensional array ‘arr’. \n",
    "# We then used np.where to find the indices of elements in ‘arr’ that are greater than 5. \n",
    "# The function returns a tuple of arrays, each array representing the indices along a dimension of ‘arr’. \n",
    "\n",
    "# The first array in the tuple represents the row indices, and the second array represents the column indices. \n",
    "# So, the elements at positions (1,2), (2,0), (2,1), and (2,2) in ‘arr’ are greater than 5."
   ]
  },
  {
   "cell_type": "code",
   "execution_count": 155,
   "id": "ad65df31-4b5c-478a-9c0f-23adaafd796a",
   "metadata": {},
   "outputs": [
    {
     "data": {
      "text/plain": [
       "array(['Not greater than 3', 'Not greater than 3', 'Not greater than 3',\n",
       "       'Greater than 3', 'Greater than 3'], dtype='<U18')"
      ]
     },
     "execution_count": 155,
     "metadata": {},
     "output_type": "execute_result"
    }
   ],
   "source": [
    "\n",
    "arr = np.array([1, 2, 3, 4, 5])\n",
    "np.where(arr > 3, 'Greater than 3', 'Not greater than 3')\n"
   ]
  },
  {
   "cell_type": "code",
   "execution_count": 154,
   "id": "cce2c714-cbc8-4530-8230-ae61d35d8ff0",
   "metadata": {},
   "outputs": [],
   "source": [
    "# In the above example, \n",
    "# np.where is used with 3 arguments: condition, value to use for elements where the condition is true, and value to use for elements where the condition is false. \n",
    "# The result is a new array where each element is either ‘Greater than 3’ or ‘Not greater than 3’ depending on whether the corresponding element in ‘arr’ is greater than 3. \n",
    "# This is particularly useful when we want to categorize or label data based on certain conditions."
   ]
  }
 ],
 "metadata": {
  "kernelspec": {
   "display_name": "Python 3 (ipykernel)",
   "language": "python",
   "name": "python3"
  },
  "language_info": {
   "codemirror_mode": {
    "name": "ipython",
    "version": 3
   },
   "file_extension": ".py",
   "mimetype": "text/x-python",
   "name": "python",
   "nbconvert_exporter": "python",
   "pygments_lexer": "ipython3",
   "version": "3.12.2"
  }
 },
 "nbformat": 4,
 "nbformat_minor": 5
}
